{
 "cells": [
  {
   "cell_type": "code",
   "execution_count": 74,
   "metadata": {},
   "outputs": [
    {
     "name": "stdout",
     "output_type": "stream",
     "text": [
      "(887, 258)\n",
      "(820, 258)\n"
     ]
    }
   ],
   "source": [
    "import pandas as pd\n",
    "import sklearn as sk\n",
    "from scipy.stats import skew\n",
    "import numpy as np\n",
    "\n",
    "train = pd.read_csv(r\"C:\\Users\\lenovo\\Google Drive\\PHAP\\2IS\\Machine Learning\\Term project 2018\\Term project\\Aggregated data\\depression_train.csv\")\n",
    "test = pd.read_csv(r\"C:\\Users\\lenovo\\Google Drive\\PHAP\\2IS\\Machine Learning\\Term project 2018\\Term project\\Aggregated data\\depression_test_chunk1.csv\")\n",
    "\n",
    "\n",
    "print(train.shape)\n",
    "print(test.shape)"
   ]
  },
  {
   "cell_type": "code",
   "execution_count": 75,
   "metadata": {},
   "outputs": [
    {
     "data": {
      "text/plain": [
       "class                    0\n",
       "empath_love              0\n",
       "empath_disappointment    0\n",
       "empath_smell             0\n",
       "empath_wedding           0\n",
       "dtype: int64"
      ]
     },
     "execution_count": 75,
     "metadata": {},
     "output_type": "execute_result"
    }
   ],
   "source": [
    "sum_null = train.isnull().sum().sort_values(ascending=False)\n",
    "sum_null.head()"
   ]
  },
  {
   "cell_type": "code",
   "execution_count": 76,
   "metadata": {},
   "outputs": [
    {
     "data": {
      "text/plain": [
       "array([dtype('O'), dtype('float64'), dtype('int64')], dtype=object)"
      ]
     },
     "execution_count": 76,
     "metadata": {},
     "output_type": "execute_result"
    }
   ],
   "source": [
    "train.dtypes.unique()"
   ]
  },
  {
   "cell_type": "code",
   "execution_count": 77,
   "metadata": {},
   "outputs": [
    {
     "data": {
      "text/html": [
       "<div>\n",
       "<style scoped>\n",
       "    .dataframe tbody tr th:only-of-type {\n",
       "        vertical-align: middle;\n",
       "    }\n",
       "\n",
       "    .dataframe tbody tr th {\n",
       "        vertical-align: top;\n",
       "    }\n",
       "\n",
       "    .dataframe thead th {\n",
       "        text-align: right;\n",
       "    }\n",
       "</style>\n",
       "<table border=\"1\" class=\"dataframe\">\n",
       "  <thead>\n",
       "    <tr style=\"text-align: right;\">\n",
       "      <th></th>\n",
       "      <th>uid</th>\n",
       "      <th>unigram_im_frequency</th>\n",
       "      <th>unigram_like_frequency</th>\n",
       "      <th>unigram_people_frequency</th>\n",
       "      <th>unigram_know_frequency</th>\n",
       "      <th>unigram_time_frequency</th>\n",
       "      <th>unigram_really_frequency</th>\n",
       "      <th>unigram_ive_frequency</th>\n",
       "      <th>unigram_even_frequency</th>\n",
       "      <th>unigram_much_frequency</th>\n",
       "      <th>...</th>\n",
       "      <th>empath_clothing</th>\n",
       "      <th>empath_anticipation</th>\n",
       "      <th>empath_real_estate</th>\n",
       "      <th>empath_deception</th>\n",
       "      <th>empath_beach</th>\n",
       "      <th>empath_animal</th>\n",
       "      <th>empath_independence</th>\n",
       "      <th>empath_wealthy</th>\n",
       "      <th>empath_neglect</th>\n",
       "      <th>class</th>\n",
       "    </tr>\n",
       "  </thead>\n",
       "  <tbody>\n",
       "    <tr>\n",
       "      <th>0</th>\n",
       "      <td>train_subject750</td>\n",
       "      <td>0.007910</td>\n",
       "      <td>0.008789</td>\n",
       "      <td>0.007910</td>\n",
       "      <td>0.000659</td>\n",
       "      <td>0.004175</td>\n",
       "      <td>0.007471</td>\n",
       "      <td>0.002417</td>\n",
       "      <td>0.003735</td>\n",
       "      <td>0.005713</td>\n",
       "      <td>...</td>\n",
       "      <td>0.000661</td>\n",
       "      <td>0.000220</td>\n",
       "      <td>0.001543</td>\n",
       "      <td>0.000771</td>\n",
       "      <td>0.000110</td>\n",
       "      <td>0.000331</td>\n",
       "      <td>0.000441</td>\n",
       "      <td>0.000992</td>\n",
       "      <td>0.000220</td>\n",
       "      <td>n</td>\n",
       "    </tr>\n",
       "    <tr>\n",
       "      <th>1</th>\n",
       "      <td>train_subject6670</td>\n",
       "      <td>0.007466</td>\n",
       "      <td>0.010540</td>\n",
       "      <td>0.000000</td>\n",
       "      <td>0.002196</td>\n",
       "      <td>0.006148</td>\n",
       "      <td>0.001757</td>\n",
       "      <td>0.002196</td>\n",
       "      <td>0.003513</td>\n",
       "      <td>0.000878</td>\n",
       "      <td>...</td>\n",
       "      <td>0.000889</td>\n",
       "      <td>0.000000</td>\n",
       "      <td>0.001557</td>\n",
       "      <td>0.000667</td>\n",
       "      <td>0.000889</td>\n",
       "      <td>0.003113</td>\n",
       "      <td>0.000000</td>\n",
       "      <td>0.001334</td>\n",
       "      <td>0.000000</td>\n",
       "      <td>n</td>\n",
       "    </tr>\n",
       "    <tr>\n",
       "      <th>2</th>\n",
       "      <td>test_subject7878</td>\n",
       "      <td>0.007163</td>\n",
       "      <td>0.006786</td>\n",
       "      <td>0.004618</td>\n",
       "      <td>0.004147</td>\n",
       "      <td>0.005372</td>\n",
       "      <td>0.001979</td>\n",
       "      <td>0.004713</td>\n",
       "      <td>0.002828</td>\n",
       "      <td>0.003110</td>\n",
       "      <td>...</td>\n",
       "      <td>0.000744</td>\n",
       "      <td>0.000093</td>\n",
       "      <td>0.001813</td>\n",
       "      <td>0.000465</td>\n",
       "      <td>0.000279</td>\n",
       "      <td>0.000604</td>\n",
       "      <td>0.000139</td>\n",
       "      <td>0.001023</td>\n",
       "      <td>0.000232</td>\n",
       "      <td>n</td>\n",
       "    </tr>\n",
       "    <tr>\n",
       "      <th>3</th>\n",
       "      <td>test_subject6167</td>\n",
       "      <td>0.000000</td>\n",
       "      <td>0.009381</td>\n",
       "      <td>0.003752</td>\n",
       "      <td>0.001876</td>\n",
       "      <td>0.003752</td>\n",
       "      <td>0.000000</td>\n",
       "      <td>0.000000</td>\n",
       "      <td>0.000000</td>\n",
       "      <td>0.001876</td>\n",
       "      <td>...</td>\n",
       "      <td>0.000000</td>\n",
       "      <td>0.000887</td>\n",
       "      <td>0.000000</td>\n",
       "      <td>0.002662</td>\n",
       "      <td>0.000000</td>\n",
       "      <td>0.000000</td>\n",
       "      <td>0.000000</td>\n",
       "      <td>0.000000</td>\n",
       "      <td>0.000000</td>\n",
       "      <td>n</td>\n",
       "    </tr>\n",
       "    <tr>\n",
       "      <th>4</th>\n",
       "      <td>train_subject9063</td>\n",
       "      <td>0.010094</td>\n",
       "      <td>0.006057</td>\n",
       "      <td>0.005384</td>\n",
       "      <td>0.003365</td>\n",
       "      <td>0.008075</td>\n",
       "      <td>0.002692</td>\n",
       "      <td>0.004038</td>\n",
       "      <td>0.000673</td>\n",
       "      <td>0.003365</td>\n",
       "      <td>...</td>\n",
       "      <td>0.000328</td>\n",
       "      <td>0.000655</td>\n",
       "      <td>0.002620</td>\n",
       "      <td>0.000983</td>\n",
       "      <td>0.000000</td>\n",
       "      <td>0.000328</td>\n",
       "      <td>0.000000</td>\n",
       "      <td>0.000983</td>\n",
       "      <td>0.000328</td>\n",
       "      <td>n</td>\n",
       "    </tr>\n",
       "  </tbody>\n",
       "</table>\n",
       "<p>5 rows × 258 columns</p>\n",
       "</div>"
      ],
      "text/plain": [
       "                 uid  unigram_im_frequency  unigram_like_frequency  \\\n",
       "0   train_subject750              0.007910                0.008789   \n",
       "1  train_subject6670              0.007466                0.010540   \n",
       "2   test_subject7878              0.007163                0.006786   \n",
       "3   test_subject6167              0.000000                0.009381   \n",
       "4  train_subject9063              0.010094                0.006057   \n",
       "\n",
       "   unigram_people_frequency  unigram_know_frequency  unigram_time_frequency  \\\n",
       "0                  0.007910                0.000659                0.004175   \n",
       "1                  0.000000                0.002196                0.006148   \n",
       "2                  0.004618                0.004147                0.005372   \n",
       "3                  0.003752                0.001876                0.003752   \n",
       "4                  0.005384                0.003365                0.008075   \n",
       "\n",
       "   unigram_really_frequency  unigram_ive_frequency  unigram_even_frequency  \\\n",
       "0                  0.007471               0.002417                0.003735   \n",
       "1                  0.001757               0.002196                0.003513   \n",
       "2                  0.001979               0.004713                0.002828   \n",
       "3                  0.000000               0.000000                0.000000   \n",
       "4                  0.002692               0.004038                0.000673   \n",
       "\n",
       "   unigram_much_frequency  ...    empath_clothing  empath_anticipation  \\\n",
       "0                0.005713  ...           0.000661             0.000220   \n",
       "1                0.000878  ...           0.000889             0.000000   \n",
       "2                0.003110  ...           0.000744             0.000093   \n",
       "3                0.001876  ...           0.000000             0.000887   \n",
       "4                0.003365  ...           0.000328             0.000655   \n",
       "\n",
       "   empath_real_estate  empath_deception  empath_beach  empath_animal  \\\n",
       "0            0.001543          0.000771      0.000110       0.000331   \n",
       "1            0.001557          0.000667      0.000889       0.003113   \n",
       "2            0.001813          0.000465      0.000279       0.000604   \n",
       "3            0.000000          0.002662      0.000000       0.000000   \n",
       "4            0.002620          0.000983      0.000000       0.000328   \n",
       "\n",
       "   empath_independence  empath_wealthy  empath_neglect  class  \n",
       "0             0.000441        0.000992        0.000220      n  \n",
       "1             0.000000        0.001334        0.000000      n  \n",
       "2             0.000139        0.001023        0.000232      n  \n",
       "3             0.000000        0.000000        0.000000      n  \n",
       "4             0.000000        0.000983        0.000328      n  \n",
       "\n",
       "[5 rows x 258 columns]"
      ]
     },
     "execution_count": 77,
     "metadata": {},
     "output_type": "execute_result"
    }
   ],
   "source": [
    "train.head()"
   ]
  },
  {
   "cell_type": "code",
   "execution_count": 78,
   "metadata": {},
   "outputs": [
    {
     "name": "stdout",
     "output_type": "stream",
     "text": [
      "Index(['uid', 'class'], dtype='object')\n",
      "Index(['unigram_im_frequency', 'unigram_like_frequency',\n",
      "       'unigram_people_frequency', 'unigram_know_frequency',\n",
      "       'unigram_time_frequency', 'unigram_really_frequency',\n",
      "       'unigram_ive_frequency', 'unigram_even_frequency',\n",
      "       'unigram_much_frequency', 'unigram_feel_frequency',\n",
      "       ...\n",
      "       'empath_weakness', 'empath_clothing', 'empath_anticipation',\n",
      "       'empath_real_estate', 'empath_deception', 'empath_beach',\n",
      "       'empath_animal', 'empath_independence', 'empath_wealthy',\n",
      "       'empath_neglect'],\n",
      "      dtype='object', length=256)\n"
     ]
    }
   ],
   "source": [
    "Obj_df = train.select_dtypes(exclude = [np.number])\n",
    "numeric_df = train.select_dtypes(include = [np.number])\n",
    "print (Obj_df.columns)\n",
    "print (numeric_df.columns)"
   ]
  },
  {
   "cell_type": "code",
   "execution_count": 79,
   "metadata": {},
   "outputs": [
    {
     "name": "stdout",
     "output_type": "stream",
     "text": [
      "0    752\n",
      "1    135\n",
      "Name: class, dtype: int64\n"
     ]
    }
   ],
   "source": [
    "target = train.iloc[:,-1]\n",
    "target = target.replace({\"p\":1,\"n\":0})\n",
    "\n",
    "print (target.value_counts())\n",
    "#==> Imbalanced target"
   ]
  },
  {
   "cell_type": "code",
   "execution_count": 80,
   "metadata": {
    "collapsed": true
   },
   "outputs": [],
   "source": [
    "train = train.drop([\"uid\",\"class\"],axis=1)"
   ]
  },
  {
   "cell_type": "code",
   "execution_count": 81,
   "metadata": {
    "collapsed": true
   },
   "outputs": [],
   "source": [
    "target_test_data = test.iloc[:,-1]\n",
    "target_test_data = target_test_data.replace({\"p\":1,\"n\":0})"
   ]
  },
  {
   "cell_type": "code",
   "execution_count": 82,
   "metadata": {},
   "outputs": [
    {
     "name": "stdout",
     "output_type": "stream",
     "text": [
      "Stored 'training_test_data' (DataFrame)\n",
      "Stored 'target_test_data' (Series)\n"
     ]
    }
   ],
   "source": [
    "training_test_data = test.drop([\"uid\", \"class\"],axis=1)\n",
    "%store training_test_data\n",
    "%store target_test_data"
   ]
  },
  {
   "cell_type": "markdown",
   "metadata": {},
   "source": [
    "### Consider the correlation among features "
   ]
  },
  {
   "cell_type": "code",
   "execution_count": 83,
   "metadata": {
    "collapsed": true
   },
   "outputs": [],
   "source": [
    "corr = train.corr()\n",
    "# stack into level 0 and 1 \n",
    "corr = corr.abs().stack().reset_index()\n",
    "# only consider the different names \n",
    "corr = corr[corr[\"level_0\"].astype(str) != corr[\"level_1\"].astype(str)]\n",
    "\n",
    "corr['ordered-cols'] = corr.apply(lambda x: '-'.join(sorted([x['level_0'],x['level_1']])),axis=1)\n"
   ]
  },
  {
   "cell_type": "code",
   "execution_count": 84,
   "metadata": {
    "collapsed": true
   },
   "outputs": [],
   "source": [
    "corr = corr.drop_duplicates(['ordered-cols'])"
   ]
  },
  {
   "cell_type": "code",
   "execution_count": 85,
   "metadata": {},
   "outputs": [
    {
     "name": "stdout",
     "output_type": "stream",
     "text": [
      "Index(['level_0', 'level_1', 0, 'ordered-cols'], dtype='object')\n"
     ]
    }
   ],
   "source": [
    "print (corr.columns)"
   ]
  },
  {
   "cell_type": "code",
   "execution_count": 86,
   "metadata": {
    "collapsed": true
   },
   "outputs": [],
   "source": [
    "corr1 = corr[corr[0] > 0.6]"
   ]
  },
  {
   "cell_type": "code",
   "execution_count": 87,
   "metadata": {},
   "outputs": [
    {
     "name": "stdout",
     "output_type": "stream",
     "text": [
      "95\n"
     ]
    }
   ],
   "source": [
    "print(len(corr1[\"level_1\"].unique()))"
   ]
  },
  {
   "cell_type": "markdown",
   "metadata": {},
   "source": [
    "=> There are 50 features relatively correlated"
   ]
  },
  {
   "cell_type": "markdown",
   "metadata": {},
   "source": [
    "### Consider skewness"
   ]
  },
  {
   "cell_type": "code",
   "execution_count": 88,
   "metadata": {},
   "outputs": [
    {
     "name": "stdout",
     "output_type": "stream",
     "text": [
      "249\n"
     ]
    }
   ],
   "source": [
    "count = 0\n",
    "for c in numeric_df :\n",
    "    if (skew(numeric_df[c]) > 0.8):\n",
    "        #print (c, \" : \", sk )\n",
    "        count = count + 1\n",
    "\n",
    "print (count)\n",
    "#==> Almost skewed: 249 out of 258 "
   ]
  },
  {
   "cell_type": "code",
   "execution_count": 89,
   "metadata": {},
   "outputs": [
    {
     "name": "stdout",
     "output_type": "stream",
     "text": [
      "(887, 200)\n"
     ]
    }
   ],
   "source": [
    "from sklearn.decomposition import PCA\n",
    "\n",
    "pca1 = PCA(200)\n",
    "train_pca = pca1.fit_transform(train)\n",
    "train = train_pca\n",
    "print (train.shape)"
   ]
  },
  {
   "cell_type": "code",
   "execution_count": 90,
   "metadata": {
    "collapsed": true
   },
   "outputs": [],
   "source": [
    "#Scale\n",
    "import matplotlib.pyplot as plt\n",
    "import seaborn as sns\n",
    "from sklearn.preprocessing import MinMaxScaler"
   ]
  },
  {
   "cell_type": "code",
   "execution_count": 92,
   "metadata": {},
   "outputs": [
    {
     "data": {
      "image/png": "[encoded data removed]",
      "text/plain": [
       "<matplotlib.figure.Figure at 0x23a30090ef0>"
      ]
     },
     "metadata": {},
     "output_type": "display_data"
    }
   ],
   "source": [
    "%matplotlib inline\n",
    "for i in range (4):\n",
    "    plt.hist(train[:,i],histtype=\"bar\")"
   ]
  },
  {
   "cell_type": "code",
   "execution_count": 93,
   "metadata": {},
   "outputs": [
    {
     "name": "stdout",
     "output_type": "stream",
     "text": [
      "Stored 'train' (ndarray)\n"
     ]
    }
   ],
   "source": [
    "scaler = MinMaxScaler()\n",
    "train = scaler.fit_transform(train)\n",
    "%store train"
   ]
  },
  {
   "cell_type": "code",
   "execution_count": 94,
   "metadata": {
    "collapsed": true
   },
   "outputs": [],
   "source": [
    "## Classification\n",
    "from sklearn import neighbors, tree\n",
    "from sklearn.linear_model import LogisticRegression\n",
    "from sklearn.svm import SVC\n",
    "from sklearn.model_selection import GridSearchCV, train_test_split\n",
    "from sklearn.model_selection import cross_val_predict, cross_val_score\n",
    "from imblearn.over_sampling import SMOTE\n",
    "from sklearn import metrics\n",
    "from sklearn.metrics import confusion_matrix, recall_score, f1_score, classification_report, roc_auc_score, roc_curve"
   ]
  },
  {
   "cell_type": "code",
   "execution_count": 95,
   "metadata": {},
   "outputs": [
    {
     "name": "stdout",
     "output_type": "stream",
     "text": [
      "(887, 200)\n",
      "(887,)\n"
     ]
    }
   ],
   "source": [
    "print (train.shape)\n",
    "print (target.shape)"
   ]
  },
  {
   "cell_type": "markdown",
   "metadata": {},
   "source": [
    "### Using SMOTE to deal with unbalanced data "
   ]
  },
  {
   "cell_type": "code",
   "execution_count": 96,
   "metadata": {
    "collapsed": true
   },
   "outputs": [],
   "source": [
    "sm = SMOTE(random_state=40)"
   ]
  },
  {
   "cell_type": "code",
   "execution_count": 97,
   "metadata": {},
   "outputs": [
    {
     "name": "stdout",
     "output_type": "stream",
     "text": [
      "before_train: (887, 200)\n",
      "before_test: (887,)\n",
      "af_train: (1504, 200)\n",
      "af_test_lb1: 752\n",
      "af_test_lb0: 752\n"
     ]
    }
   ],
   "source": [
    "#logistic\n",
    "print (\"before_train:\", train.shape)\n",
    "print (\"before_test:\", target.shape)\n",
    "train, target = sm.fit_sample(train,target)\n",
    "X_train,X_test,y_train,y_test = train_test_split(train,target,test_size=0.3)\n",
    "print (\"af_train:\", train.shape)\n",
    "print (\"af_test_lb1:\", sum(target==1))\n",
    "print (\"af_test_lb0:\", sum(target==0))"
   ]
  },
  {
   "cell_type": "markdown",
   "metadata": {},
   "source": [
    "## Fit with Logistic Regression"
   ]
  },
  {
   "cell_type": "code",
   "execution_count": 98,
   "metadata": {},
   "outputs": [
    {
     "name": "stdout",
     "output_type": "stream",
     "text": [
      "Fitting 5 folds for each of 10 candidates, totalling 50 fits\n"
     ]
    },
    {
     "name": "stderr",
     "output_type": "stream",
     "text": [
      "[Parallel(n_jobs=3)]: Using backend LokyBackend with 3 concurrent workers.\n",
      "[Parallel(n_jobs=3)]: Done  12 tasks      | elapsed:    6.6s\n",
      "[Parallel(n_jobs=3)]: Done  45 out of  50 | elapsed:    7.6s remaining:    0.8s\n",
      "[Parallel(n_jobs=3)]: Done  50 out of  50 | elapsed:    7.7s finished\n"
     ]
    },
    {
     "data": {
      "text/plain": [
       "GridSearchCV(cv=5, error_score='raise-deprecating',\n",
       "       estimator=LogisticRegression(C=1.0, class_weight=None, dual=False, fit_intercept=True,\n",
       "          intercept_scaling=1, max_iter=100, multi_class='warn',\n",
       "          n_jobs=None, penalty='l2', random_state=None, solver='liblinear',\n",
       "          tol=0.0001, verbose=0, warm_start=False),\n",
       "       fit_params=None, iid='warn', n_jobs=3,\n",
       "       param_grid={'C': array([ 1.,  2.,  3.,  4.,  5.,  6.,  7.,  8.,  9., 10.])},\n",
       "       pre_dispatch='2*n_jobs', refit=True, return_train_score='warn',\n",
       "       scoring=None, verbose=5)"
      ]
     },
     "execution_count": 98,
     "metadata": {},
     "output_type": "execute_result"
    }
   ],
   "source": [
    "param = {'C':np.linspace(1,10,10)}\n",
    "lg = LogisticRegression(solver = 'liblinear')\n",
    "gridSearch = GridSearchCV(lg,param,cv=5,verbose=5,n_jobs=3)\n",
    "gridSearch.fit(X_train,y_train)"
   ]
  },
  {
   "cell_type": "code",
   "execution_count": 99,
   "metadata": {},
   "outputs": [
    {
     "data": {
      "text/plain": [
       "{'C': 8.0}"
      ]
     },
     "execution_count": 99,
     "metadata": {},
     "output_type": "execute_result"
    }
   ],
   "source": [
    "gridSearch.best_params_"
   ]
  },
  {
   "cell_type": "code",
   "execution_count": 100,
   "metadata": {},
   "outputs": [
    {
     "name": "stdout",
     "output_type": "stream",
     "text": [
      "Fitting 10 folds for each of 10 candidates, totalling 100 fits\n"
     ]
    },
    {
     "name": "stderr",
     "output_type": "stream",
     "text": [
      "[Parallel(n_jobs=3)]: Using backend LokyBackend with 3 concurrent workers.\n",
      "[Parallel(n_jobs=3)]: Done  12 tasks      | elapsed:    5.5s\n",
      "[Parallel(n_jobs=3)]: Done  66 tasks      | elapsed:   30.5s\n",
      "[Parallel(n_jobs=3)]: Done 100 out of 100 | elapsed:  1.1min finished\n"
     ]
    },
    {
     "name": "stdout",
     "output_type": "stream",
     "text": [
      "[LibLinear]"
     ]
    }
   ],
   "source": [
    "#from sklearn.model_selection import cross_val_predict, cross_val_score, KFold\n",
    "\n",
    "#kf = KFold(n_splits=10)\n",
    "\n",
    "lg = LogisticRegression (C=8,penalty='l1',solver = 'liblinear')\n",
    "\n",
    "# Apply cross validation\n",
    "lg = GridSearchCV(lg,param,cv=10)\n",
    "lg.fit(X_train,y_train)\n",
    "predict = lg.predict(X_test)\n"
   ]
  },
  {
   "cell_type": "code",
   "execution_count": 102,
   "metadata": {},
   "outputs": [
    {
     "name": "stdout",
     "output_type": "stream",
     "text": [
      "Confusion matrix:\n"
     ]
    },
    {
     "data": {
      "text/html": [
       "<div>\n",
       "<style scoped>\n",
       "    .dataframe tbody tr th:only-of-type {\n",
       "        vertical-align: middle;\n",
       "    }\n",
       "\n",
       "    .dataframe tbody tr th {\n",
       "        vertical-align: top;\n",
       "    }\n",
       "\n",
       "    .dataframe thead th {\n",
       "        text-align: right;\n",
       "    }\n",
       "</style>\n",
       "<table border=\"1\" class=\"dataframe\">\n",
       "  <thead>\n",
       "    <tr style=\"text-align: right;\">\n",
       "      <th></th>\n",
       "      <th>not_stress</th>\n",
       "      <th>stress</th>\n",
       "    </tr>\n",
       "  </thead>\n",
       "  <tbody>\n",
       "    <tr>\n",
       "      <th>not_stress</th>\n",
       "      <td>198</td>\n",
       "      <td>41</td>\n",
       "    </tr>\n",
       "    <tr>\n",
       "      <th>stress</th>\n",
       "      <td>7</td>\n",
       "      <td>206</td>\n",
       "    </tr>\n",
       "  </tbody>\n",
       "</table>\n",
       "</div>"
      ],
      "text/plain": [
       "            not_stress  stress\n",
       "not_stress         198      41\n",
       "stress               7     206"
      ]
     },
     "execution_count": 102,
     "metadata": {},
     "output_type": "execute_result"
    }
   ],
   "source": [
    "class_names = [\"not_stress\",\"stress\"]\n",
    "\n",
    "cm = confusion_matrix(y_test,predict)\n",
    "df_cm = pd.DataFrame(cm,index=class_names,columns=class_names)\n",
    "print (\"Confusion matrix:\")\n",
    "df_cm.head()"
   ]
  },
  {
   "cell_type": "code",
   "execution_count": 103,
   "metadata": {},
   "outputs": [
    {
     "name": "stdout",
     "output_type": "stream",
     "text": [
      "recall: 0.9671361502347418\n",
      "accuracy: 0.8938053097345132\n",
      "f1_sc: 0.8956521739130435\n",
      "auc: 0.8977940165399652\n"
     ]
    }
   ],
   "source": [
    "from sklearn.metrics import accuracy_score\n",
    "\n",
    "recall = recall_score(y_test,predict)\n",
    "print (\"recall:\", recall)\n",
    "#Accuracy \n",
    "accuracy = accuracy_score(y_test,predict)\n",
    "print (\"accuracy:\",accuracy)\n",
    "#f1 score \n",
    "f1_sc = f1_score(y_test,predict)\n",
    "print (\"f1_sc:\", f1_sc)\n",
    "auc = metrics.roc_auc_score(y_test,predict)\n",
    "print(\"auc:\", auc)"
   ]
  },
  {
   "cell_type": "markdown",
   "metadata": {},
   "source": [
    "#### Draw the ROC"
   ]
  },
  {
   "cell_type": "code",
   "execution_count": 29,
   "metadata": {},
   "outputs": [
    {
     "name": "stdout",
     "output_type": "stream",
     "text": [
      "[[1.60214448e-02 9.83978555e-01]\n",
      " [2.39749537e-04 9.99760250e-01]\n",
      " [9.68244035e-01 3.17559654e-02]\n",
      " [1.24469076e-03 9.98755309e-01]\n",
      " [3.33099757e-03 9.96669002e-01]]\n"
     ]
    }
   ],
   "source": [
    "y_probabilities =lg.predict_proba(X_test)\n",
    "#position in the matrix: class 0,1\n",
    "print(y_probabilities[:5,])\n",
    "y_proba = y_probabilities[:,1]"
   ]
  },
  {
   "cell_type": "code",
   "execution_count": 30,
   "metadata": {},
   "outputs": [
    {
     "name": "stdout",
     "output_type": "stream",
     "text": [
      "(452, 2)\n"
     ]
    }
   ],
   "source": [
    "print(y_probabilities.shape)"
   ]
  },
  {
   "cell_type": "code",
   "execution_count": 31,
   "metadata": {
    "collapsed": true
   },
   "outputs": [],
   "source": [
    "fpr, tpr, thresholds = metrics.roc_curve(y_test,y_proba)"
   ]
  },
  {
   "cell_type": "code",
   "execution_count": 32,
   "metadata": {},
   "outputs": [
    {
     "data": {
      "image/png": "[encoded data removed]",
      "text/plain": [
       "<matplotlib.figure.Figure at 0x23a2ffe7630>"
      ]
     },
     "metadata": {},
     "output_type": "display_data"
    }
   ],
   "source": [
    "%matplotlib inline\n",
    "plt.plot(fpr,tpr,label='auc:'+str(auc))\n",
    "plt.show()"
   ]
  },
  {
   "cell_type": "markdown",
   "metadata": {},
   "source": [
    "### Fit with LigthGBM"
   ]
  },
  {
   "cell_type": "code",
   "execution_count": 33,
   "metadata": {
    "collapsed": true
   },
   "outputs": [],
   "source": [
    "#LightGBM\n",
    "from sklearn.preprocessing import LabelBinarizer\n",
    "import lightgbm"
   ]
  },
  {
   "cell_type": "code",
   "execution_count": 34,
   "metadata": {
    "collapsed": true
   },
   "outputs": [],
   "source": [
    "param = {'objective': \"binary\",\n",
    "              'num_leaves': 2**8,\n",
    "              'learning_rate': 0.1,\n",
    "              'is_unbalance': True,\n",
    "              'min_split_gain': 0.1,\n",
    "              'min_child_weight': 1,\n",
    "              'reg_lambda': 1,\n",
    "              'subsample': 1,\n",
    "              'task': 'train'\n",
    "              }\n",
    "num_rounds = 300"
   ]
  },
  {
   "cell_type": "code",
   "execution_count": 35,
   "metadata": {},
   "outputs": [
    {
     "name": "stdout",
     "output_type": "stream",
     "text": [
      "[1]\tvalid_0's binary_logloss: 0.643064\n",
      "[2]\tvalid_0's binary_logloss: 0.598205\n",
      "[3]\tvalid_0's binary_logloss: 0.566381\n",
      "[4]\tvalid_0's binary_logloss: 0.532958\n",
      "[5]\tvalid_0's binary_logloss: 0.506322\n",
      "[6]\tvalid_0's binary_logloss: 0.48123\n",
      "[7]\tvalid_0's binary_logloss: 0.460421\n",
      "[8]\tvalid_0's binary_logloss: 0.43934\n",
      "[9]\tvalid_0's binary_logloss: 0.422246\n",
      "[10]\tvalid_0's binary_logloss: 0.406119\n",
      "[11]\tvalid_0's binary_logloss: 0.392626\n",
      "[12]\tvalid_0's binary_logloss: 0.378053\n",
      "[13]\tvalid_0's binary_logloss: 0.367621\n",
      "[14]\tvalid_0's binary_logloss: 0.353579\n",
      "[15]\tvalid_0's binary_logloss: 0.342972\n",
      "[16]\tvalid_0's binary_logloss: 0.331023\n",
      "[17]\tvalid_0's binary_logloss: 0.320706\n",
      "[18]\tvalid_0's binary_logloss: 0.311199\n",
      "[19]\tvalid_0's binary_logloss: 0.302646\n",
      "[20]\tvalid_0's binary_logloss: 0.293731\n",
      "[21]\tvalid_0's binary_logloss: 0.285894\n",
      "[22]\tvalid_0's binary_logloss: 0.280316\n",
      "[23]\tvalid_0's binary_logloss: 0.273618\n",
      "[24]\tvalid_0's binary_logloss: 0.266098\n",
      "[25]\tvalid_0's binary_logloss: 0.259696\n",
      "[26]\tvalid_0's binary_logloss: 0.254645\n",
      "[27]\tvalid_0's binary_logloss: 0.250242\n",
      "[28]\tvalid_0's binary_logloss: 0.245569\n",
      "[29]\tvalid_0's binary_logloss: 0.241599\n",
      "[30]\tvalid_0's binary_logloss: 0.235752\n",
      "[31]\tvalid_0's binary_logloss: 0.230708\n",
      "[32]\tvalid_0's binary_logloss: 0.226021\n",
      "[33]\tvalid_0's binary_logloss: 0.221473\n",
      "[34]\tvalid_0's binary_logloss: 0.217963\n",
      "[35]\tvalid_0's binary_logloss: 0.214569\n",
      "[36]\tvalid_0's binary_logloss: 0.210696\n",
      "[37]\tvalid_0's binary_logloss: 0.20703\n",
      "[38]\tvalid_0's binary_logloss: 0.203271\n",
      "[39]\tvalid_0's binary_logloss: 0.201031\n",
      "[40]\tvalid_0's binary_logloss: 0.197549\n",
      "[41]\tvalid_0's binary_logloss: 0.194103\n",
      "[42]\tvalid_0's binary_logloss: 0.190479\n",
      "[43]\tvalid_0's binary_logloss: 0.187254\n",
      "[44]\tvalid_0's binary_logloss: 0.185213\n",
      "[45]\tvalid_0's binary_logloss: 0.183583\n",
      "[46]\tvalid_0's binary_logloss: 0.181034\n",
      "[47]\tvalid_0's binary_logloss: 0.178034\n",
      "[48]\tvalid_0's binary_logloss: 0.176417\n",
      "[49]\tvalid_0's binary_logloss: 0.174474\n",
      "[50]\tvalid_0's binary_logloss: 0.172919\n",
      "[51]\tvalid_0's binary_logloss: 0.170473\n",
      "[52]\tvalid_0's binary_logloss: 0.169419\n",
      "[53]\tvalid_0's binary_logloss: 0.168957\n",
      "[54]\tvalid_0's binary_logloss: 0.167574\n",
      "[55]\tvalid_0's binary_logloss: 0.166173\n",
      "[56]\tvalid_0's binary_logloss: 0.163978\n",
      "[57]\tvalid_0's binary_logloss: 0.162479\n",
      "[58]\tvalid_0's binary_logloss: 0.161155\n",
      "[59]\tvalid_0's binary_logloss: 0.159665\n",
      "[60]\tvalid_0's binary_logloss: 0.158312\n",
      "[61]\tvalid_0's binary_logloss: 0.156311\n",
      "[62]\tvalid_0's binary_logloss: 0.155373\n",
      "[63]\tvalid_0's binary_logloss: 0.154694\n",
      "[64]\tvalid_0's binary_logloss: 0.153992\n",
      "[65]\tvalid_0's binary_logloss: 0.15297\n",
      "[66]\tvalid_0's binary_logloss: 0.151306\n",
      "[67]\tvalid_0's binary_logloss: 0.149594\n",
      "[68]\tvalid_0's binary_logloss: 0.148775\n",
      "[69]\tvalid_0's binary_logloss: 0.147896\n",
      "[70]\tvalid_0's binary_logloss: 0.147458\n",
      "[71]\tvalid_0's binary_logloss: 0.14747\n",
      "[72]\tvalid_0's binary_logloss: 0.147751\n",
      "[73]\tvalid_0's binary_logloss: 0.146855\n",
      "[74]\tvalid_0's binary_logloss: 0.14622\n",
      "[75]\tvalid_0's binary_logloss: 0.14566\n",
      "[76]\tvalid_0's binary_logloss: 0.145121\n",
      "[77]\tvalid_0's binary_logloss: 0.143865\n",
      "[78]\tvalid_0's binary_logloss: 0.143391\n",
      "[79]\tvalid_0's binary_logloss: 0.142195\n",
      "[80]\tvalid_0's binary_logloss: 0.141833\n",
      "[81]\tvalid_0's binary_logloss: 0.140621\n",
      "[82]\tvalid_0's binary_logloss: 0.140209\n",
      "[83]\tvalid_0's binary_logloss: 0.139439\n",
      "[84]\tvalid_0's binary_logloss: 0.13917\n",
      "[85]\tvalid_0's binary_logloss: 0.139107\n",
      "[86]\tvalid_0's binary_logloss: 0.138699\n",
      "[87]\tvalid_0's binary_logloss: 0.138962\n",
      "[88]\tvalid_0's binary_logloss: 0.137588\n",
      "[89]\tvalid_0's binary_logloss: 0.13686\n",
      "[90]\tvalid_0's binary_logloss: 0.137178\n",
      "[91]\tvalid_0's binary_logloss: 0.137317\n",
      "[92]\tvalid_0's binary_logloss: 0.136707\n",
      "[93]\tvalid_0's binary_logloss: 0.135704\n",
      "[94]\tvalid_0's binary_logloss: 0.135574\n",
      "[95]\tvalid_0's binary_logloss: 0.134931\n",
      "[96]\tvalid_0's binary_logloss: 0.134261\n",
      "[97]\tvalid_0's binary_logloss: 0.133749\n",
      "[98]\tvalid_0's binary_logloss: 0.133276\n",
      "[99]\tvalid_0's binary_logloss: 0.132846\n",
      "[100]\tvalid_0's binary_logloss: 0.132555\n",
      "[101]\tvalid_0's binary_logloss: 0.132117\n",
      "[102]\tvalid_0's binary_logloss: 0.13195\n",
      "[103]\tvalid_0's binary_logloss: 0.131683\n",
      "[104]\tvalid_0's binary_logloss: 0.131117\n",
      "[105]\tvalid_0's binary_logloss: 0.131009\n",
      "[106]\tvalid_0's binary_logloss: 0.131655\n",
      "[107]\tvalid_0's binary_logloss: 0.131132\n",
      "[108]\tvalid_0's binary_logloss: 0.130691\n",
      "[109]\tvalid_0's binary_logloss: 0.130169\n",
      "[110]\tvalid_0's binary_logloss: 0.129254\n",
      "[111]\tvalid_0's binary_logloss: 0.128895\n",
      "[112]\tvalid_0's binary_logloss: 0.128666\n",
      "[113]\tvalid_0's binary_logloss: 0.128431\n",
      "[114]\tvalid_0's binary_logloss: 0.127892\n",
      "[115]\tvalid_0's binary_logloss: 0.127567\n",
      "[116]\tvalid_0's binary_logloss: 0.12718\n",
      "[117]\tvalid_0's binary_logloss: 0.126925\n",
      "[118]\tvalid_0's binary_logloss: 0.126434\n",
      "[119]\tvalid_0's binary_logloss: 0.125997\n",
      "[120]\tvalid_0's binary_logloss: 0.125983\n",
      "[121]\tvalid_0's binary_logloss: 0.125809\n",
      "[122]\tvalid_0's binary_logloss: 0.125699\n",
      "[123]\tvalid_0's binary_logloss: 0.125422\n",
      "[124]\tvalid_0's binary_logloss: 0.124994\n",
      "[125]\tvalid_0's binary_logloss: 0.124633\n",
      "[126]\tvalid_0's binary_logloss: 0.124597\n",
      "[127]\tvalid_0's binary_logloss: 0.12481\n",
      "[128]\tvalid_0's binary_logloss: 0.124828\n",
      "[129]\tvalid_0's binary_logloss: 0.125089\n",
      "[130]\tvalid_0's binary_logloss: 0.12495\n",
      "[131]\tvalid_0's binary_logloss: 0.125215\n",
      "[132]\tvalid_0's binary_logloss: 0.124962\n",
      "[133]\tvalid_0's binary_logloss: 0.12528\n",
      "[134]\tvalid_0's binary_logloss: 0.125187\n",
      "[135]\tvalid_0's binary_logloss: 0.125336\n",
      "[136]\tvalid_0's binary_logloss: 0.125655\n",
      "[137]\tvalid_0's binary_logloss: 0.125752\n",
      "[138]\tvalid_0's binary_logloss: 0.12552\n",
      "[139]\tvalid_0's binary_logloss: 0.125391\n",
      "[140]\tvalid_0's binary_logloss: 0.125185\n",
      "[141]\tvalid_0's binary_logloss: 0.124788\n",
      "[142]\tvalid_0's binary_logloss: 0.125052\n",
      "[143]\tvalid_0's binary_logloss: 0.124755\n",
      "[144]\tvalid_0's binary_logloss: 0.124789\n",
      "[145]\tvalid_0's binary_logloss: 0.124594\n",
      "[146]\tvalid_0's binary_logloss: 0.124438\n",
      "[147]\tvalid_0's binary_logloss: 0.124363\n",
      "[148]\tvalid_0's binary_logloss: 0.124408\n",
      "[149]\tvalid_0's binary_logloss: 0.124585\n",
      "[150]\tvalid_0's binary_logloss: 0.124652\n",
      "[151]\tvalid_0's binary_logloss: 0.124628\n",
      "[152]\tvalid_0's binary_logloss: 0.124753\n",
      "[153]\tvalid_0's binary_logloss: 0.124455\n",
      "[154]\tvalid_0's binary_logloss: 0.12431\n",
      "[155]\tvalid_0's binary_logloss: 0.124112\n",
      "[156]\tvalid_0's binary_logloss: 0.124336\n",
      "[157]\tvalid_0's binary_logloss: 0.124421\n",
      "[158]\tvalid_0's binary_logloss: 0.124101\n",
      "[159]\tvalid_0's binary_logloss: 0.124225\n",
      "[160]\tvalid_0's binary_logloss: 0.124068\n",
      "[161]\tvalid_0's binary_logloss: 0.12412\n",
      "[162]\tvalid_0's binary_logloss: 0.12426\n",
      "[163]\tvalid_0's binary_logloss: 0.124459\n",
      "[164]\tvalid_0's binary_logloss: 0.124361\n",
      "[165]\tvalid_0's binary_logloss: 0.124116\n",
      "[166]\tvalid_0's binary_logloss: 0.124143\n",
      "[167]\tvalid_0's binary_logloss: 0.124028\n",
      "[168]\tvalid_0's binary_logloss: 0.123857\n",
      "[169]\tvalid_0's binary_logloss: 0.123857\n",
      "[170]\tvalid_0's binary_logloss: 0.123857\n",
      "[171]\tvalid_0's binary_logloss: 0.123857\n",
      "[172]\tvalid_0's binary_logloss: 0.123857\n",
      "[173]\tvalid_0's binary_logloss: 0.123857\n",
      "[174]\tvalid_0's binary_logloss: 0.123857\n",
      "[175]\tvalid_0's binary_logloss: 0.123857\n",
      "[176]\tvalid_0's binary_logloss: 0.123857\n",
      "[177]\tvalid_0's binary_logloss: 0.123857\n",
      "[178]\tvalid_0's binary_logloss: 0.123857\n",
      "[179]\tvalid_0's binary_logloss: 0.123857\n",
      "[180]\tvalid_0's binary_logloss: 0.123857\n",
      "[181]\tvalid_0's binary_logloss: 0.123857\n",
      "[182]\tvalid_0's binary_logloss: 0.123857\n",
      "[183]\tvalid_0's binary_logloss: 0.123857\n",
      "[184]\tvalid_0's binary_logloss: 0.123857\n",
      "[185]\tvalid_0's binary_logloss: 0.123857\n",
      "[186]\tvalid_0's binary_logloss: 0.123857\n",
      "[187]\tvalid_0's binary_logloss: 0.123857\n",
      "[188]\tvalid_0's binary_logloss: 0.123857\n",
      "[189]\tvalid_0's binary_logloss: 0.123857\n",
      "[190]\tvalid_0's binary_logloss: 0.123857\n",
      "[191]\tvalid_0's binary_logloss: 0.123857\n",
      "[192]\tvalid_0's binary_logloss: 0.123857\n",
      "[193]\tvalid_0's binary_logloss: 0.123857\n",
      "[194]\tvalid_0's binary_logloss: 0.123857\n",
      "[195]\tvalid_0's binary_logloss: 0.123857\n",
      "[196]\tvalid_0's binary_logloss: 0.123857\n",
      "[197]\tvalid_0's binary_logloss: 0.123857\n",
      "[198]\tvalid_0's binary_logloss: 0.123857\n",
      "[199]\tvalid_0's binary_logloss: 0.123857\n",
      "[200]\tvalid_0's binary_logloss: 0.123857\n",
      "[201]\tvalid_0's binary_logloss: 0.123857\n",
      "[202]\tvalid_0's binary_logloss: 0.123857\n",
      "[203]\tvalid_0's binary_logloss: 0.123857\n",
      "[204]\tvalid_0's binary_logloss: 0.123857\n",
      "[205]\tvalid_0's binary_logloss: 0.123857\n",
      "[206]\tvalid_0's binary_logloss: 0.123857\n",
      "[207]\tvalid_0's binary_logloss: 0.123857\n",
      "[208]\tvalid_0's binary_logloss: 0.123857\n",
      "[209]\tvalid_0's binary_logloss: 0.123857\n",
      "[210]\tvalid_0's binary_logloss: 0.123857\n",
      "[211]\tvalid_0's binary_logloss: 0.123857\n",
      "[212]\tvalid_0's binary_logloss: 0.123857\n",
      "[213]\tvalid_0's binary_logloss: 0.123857\n",
      "[214]\tvalid_0's binary_logloss: 0.123857\n",
      "[215]\tvalid_0's binary_logloss: 0.123857\n",
      "[216]\tvalid_0's binary_logloss: 0.123857\n",
      "[217]\tvalid_0's binary_logloss: 0.123857\n",
      "[218]\tvalid_0's binary_logloss: 0.123857\n",
      "[219]\tvalid_0's binary_logloss: 0.123857\n",
      "[220]\tvalid_0's binary_logloss: 0.123857\n",
      "[221]\tvalid_0's binary_logloss: 0.123857\n",
      "[222]\tvalid_0's binary_logloss: 0.123857\n",
      "[223]\tvalid_0's binary_logloss: 0.123857\n",
      "[224]\tvalid_0's binary_logloss: 0.123857\n",
      "[225]\tvalid_0's binary_logloss: 0.123857\n",
      "[226]\tvalid_0's binary_logloss: 0.123857\n",
      "[227]\tvalid_0's binary_logloss: 0.123857\n",
      "[228]\tvalid_0's binary_logloss: 0.123857\n",
      "[229]\tvalid_0's binary_logloss: 0.123857\n",
      "[230]\tvalid_0's binary_logloss: 0.123857\n",
      "[231]\tvalid_0's binary_logloss: 0.123857\n",
      "[232]\tvalid_0's binary_logloss: 0.123857\n",
      "[233]\tvalid_0's binary_logloss: 0.123857\n",
      "[234]\tvalid_0's binary_logloss: 0.123857\n",
      "[235]\tvalid_0's binary_logloss: 0.123857\n",
      "[236]\tvalid_0's binary_logloss: 0.123857\n",
      "[237]\tvalid_0's binary_logloss: 0.123857\n",
      "[238]\tvalid_0's binary_logloss: 0.123857\n",
      "[239]\tvalid_0's binary_logloss: 0.123857\n",
      "[240]\tvalid_0's binary_logloss: 0.123857\n",
      "[241]\tvalid_0's binary_logloss: 0.123857\n",
      "[242]\tvalid_0's binary_logloss: 0.123857\n",
      "[243]\tvalid_0's binary_logloss: 0.123857\n",
      "[244]\tvalid_0's binary_logloss: 0.123857\n",
      "[245]\tvalid_0's binary_logloss: 0.123857\n",
      "[246]\tvalid_0's binary_logloss: 0.123857\n",
      "[247]\tvalid_0's binary_logloss: 0.123857\n",
      "[248]\tvalid_0's binary_logloss: 0.123857\n",
      "[249]\tvalid_0's binary_logloss: 0.123857\n",
      "[250]\tvalid_0's binary_logloss: 0.123857\n",
      "[251]\tvalid_0's binary_logloss: 0.123857\n",
      "[252]\tvalid_0's binary_logloss: 0.123857\n",
      "[253]\tvalid_0's binary_logloss: 0.123857\n",
      "[254]\tvalid_0's binary_logloss: 0.123857\n",
      "[255]\tvalid_0's binary_logloss: 0.123857\n",
      "[256]\tvalid_0's binary_logloss: 0.123857\n",
      "[257]\tvalid_0's binary_logloss: 0.123857\n",
      "[258]\tvalid_0's binary_logloss: 0.123857\n",
      "[259]\tvalid_0's binary_logloss: 0.123857\n",
      "[260]\tvalid_0's binary_logloss: 0.123857\n",
      "[261]\tvalid_0's binary_logloss: 0.123857\n",
      "[262]\tvalid_0's binary_logloss: 0.123857\n",
      "[263]\tvalid_0's binary_logloss: 0.123857\n",
      "[264]\tvalid_0's binary_logloss: 0.123857\n",
      "[265]\tvalid_0's binary_logloss: 0.123857\n",
      "[266]\tvalid_0's binary_logloss: 0.123857\n",
      "[267]\tvalid_0's binary_logloss: 0.123857\n",
      "[268]\tvalid_0's binary_logloss: 0.123857\n",
      "[269]\tvalid_0's binary_logloss: 0.123857\n",
      "[270]\tvalid_0's binary_logloss: 0.123857\n",
      "[271]\tvalid_0's binary_logloss: 0.123857\n",
      "[272]\tvalid_0's binary_logloss: 0.123857\n",
      "[273]\tvalid_0's binary_logloss: 0.123857\n",
      "[274]\tvalid_0's binary_logloss: 0.123857\n",
      "[275]\tvalid_0's binary_logloss: 0.123857\n",
      "[276]\tvalid_0's binary_logloss: 0.123857\n",
      "[277]\tvalid_0's binary_logloss: 0.123857\n",
      "[278]\tvalid_0's binary_logloss: 0.123857\n",
      "[279]\tvalid_0's binary_logloss: 0.123857\n",
      "[280]\tvalid_0's binary_logloss: 0.123857\n",
      "[281]\tvalid_0's binary_logloss: 0.123857\n",
      "[282]\tvalid_0's binary_logloss: 0.123857\n",
      "[283]\tvalid_0's binary_logloss: 0.123857\n",
      "[284]\tvalid_0's binary_logloss: 0.123857\n",
      "[285]\tvalid_0's binary_logloss: 0.123857\n",
      "[286]\tvalid_0's binary_logloss: 0.123857\n",
      "[287]\tvalid_0's binary_logloss: 0.123857\n",
      "[288]\tvalid_0's binary_logloss: 0.123857\n",
      "[289]\tvalid_0's binary_logloss: 0.123857\n",
      "[290]\tvalid_0's binary_logloss: 0.123857\n",
      "[291]\tvalid_0's binary_logloss: 0.123857\n",
      "[292]\tvalid_0's binary_logloss: 0.123857\n",
      "[293]\tvalid_0's binary_logloss: 0.123857\n",
      "[294]\tvalid_0's binary_logloss: 0.123857\n",
      "[295]\tvalid_0's binary_logloss: 0.123857\n",
      "[296]\tvalid_0's binary_logloss: 0.123857\n",
      "[297]\tvalid_0's binary_logloss: 0.123857\n",
      "[298]\tvalid_0's binary_logloss: 0.123857\n",
      "[299]\tvalid_0's binary_logloss: 0.123857\n",
      "[300]\tvalid_0's binary_logloss: 0.123857\n"
     ]
    }
   ],
   "source": [
    "train_data = lightgbm.Dataset(X_train,label=y_train)\n",
    "test_data = lightgbm.Dataset(X_test,label=y_test)\n",
    "\n",
    "lgbm = lightgbm.train(param, train_data,valid_sets=test_data,num_boost_round=num_rounds)"
   ]
  },
  {
   "cell_type": "code",
   "execution_count": 36,
   "metadata": {
    "collapsed": true
   },
   "outputs": [],
   "source": [
    "y_predict_proba = lgbm.predict(X_test)\n",
    "y_predict = np.where(y_predict_proba > 0.5,1,0)"
   ]
  },
  {
   "cell_type": "code",
   "execution_count": 37,
   "metadata": {},
   "outputs": [
    {
     "data": {
      "text/plain": [
       "[<matplotlib.lines.Line2D at 0x23a30086128>]"
      ]
     },
     "execution_count": 37,
     "metadata": {},
     "output_type": "execute_result"
    },
    {
     "data": {
      "image/png": "[encoded data removed]",
      "text/plain": [
       "<matplotlib.figure.Figure at 0x23a300aa668>"
      ]
     },
     "metadata": {},
     "output_type": "display_data"
    }
   ],
   "source": [
    "fpr,tpr,threshores = metrics.roc_curve(y_test,y_predict_proba)\n",
    "plt.plot(fpr,tpr,label=\"lightgbm_roc\")"
   ]
  },
  {
   "cell_type": "code",
   "execution_count": 38,
   "metadata": {
    "collapsed": true
   },
   "outputs": [
    {
     "name": "stdout",
     "output_type": "stream",
     "text": [
      "recall:  0.9669811320754716\n",
      "auc: 0.9501572327044024\n",
      "accuracy:  0.9491150442477876\n"
     ]
    }
   ],
   "source": [
    "from sklearn.metrics import accuracy_score\n",
    "\n",
    "print(\"recall: \", recall_score(y_test,y_predict))\n",
    "print(\"auc:\", metrics.roc_auc_score(y_test,y_predict))\n",
    "print(\"accuracy: \", accuracy_score(y_test,y_predict))"
   ]
  },
  {
   "cell_type": "code",
   "execution_count": 40,
   "metadata": {},
   "outputs": [
    {
     "name": "stdout",
     "output_type": "stream",
     "text": [
      "(0.8988053577466661, 2.7525892753357492e-163)\n"
     ]
    }
   ],
   "source": [
    "# Compare the correlation between target and prediction to verify the prediction \n",
    "from scipy.stats.stats import pearsonr   \n",
    "print (pearsonr(y_test,y_predict))"
   ]
  },
  {
   "cell_type": "markdown",
   "metadata": {},
   "source": [
    "## Test \n",
    "- Chunk 1"
   ]
  },
  {
   "cell_type": "code",
   "execution_count": 57,
   "metadata": {
    "collapsed": true
   },
   "outputs": [],
   "source": [
    "%store -r training_test_data\n",
    "%store -r target_test_data"
   ]
  },
  {
   "cell_type": "markdown",
   "metadata": {},
   "source": [
    "#### With PCA and scaler"
   ]
  },
  {
   "cell_type": "code",
   "execution_count": 106,
   "metadata": {
    "collapsed": true
   },
   "outputs": [],
   "source": [
    "#SMOTE\n",
    "X_test,y_test = sm.fit_sample(training_test_data,target_test_data)\n",
    "\n",
    "#PCA\n",
    "X_test = pca1.fit_transform(X_test)\n",
    "\n",
    "#Scaler \n",
    "X_test = scaler.fit_transform(X_test)"
   ]
  },
  {
   "cell_type": "markdown",
   "metadata": {},
   "source": [
    "### Logistic Regression"
   ]
  },
  {
   "cell_type": "code",
   "execution_count": 128,
   "metadata": {
    "collapsed": true
   },
   "outputs": [],
   "source": [
    "y_predict = lg.predict(X_test)"
   ]
  },
  {
   "cell_type": "code",
   "execution_count": 129,
   "metadata": {},
   "outputs": [
    {
     "name": "stdout",
     "output_type": "stream",
     "text": [
      "recall:  0.8475033738191633\n",
      "auc: 0.5458839406207827\n",
      "accuracy:  0.5458839406207827\n"
     ]
    }
   ],
   "source": [
    "print(\"recall: \", recall_score(y_test,y_predict))\n",
    "print(\"auc:\", metrics.roc_auc_score(y_test,y_predict))\n",
    "print(\"accuracy: \", accuracy_score(y_test,y_predict))"
   ]
  },
  {
   "cell_type": "code",
   "execution_count": 132,
   "metadata": {},
   "outputs": [
    {
     "data": {
      "text/plain": [
       "[<matplotlib.lines.Line2D at 0x23a2deb48d0>]"
      ]
     },
     "execution_count": 132,
     "metadata": {},
     "output_type": "execute_result"
    },
    {
     "data": {
      "image/png": "[encoded data removed]",
      "text/plain": [
       "<matplotlib.figure.Figure at 0x23a2ae72438>"
      ]
     },
     "metadata": {},
     "output_type": "display_data"
    }
   ],
   "source": [
    "y_predict_proba = lg.predict_proba(X_test)[:,1]\n",
    "fpr,tpr,threshore = metrics.roc_curve(y_test,y_predict_proba)\n",
    "plt.plot(fpr,tpr)"
   ]
  },
  {
   "cell_type": "code",
   "execution_count": 123,
   "metadata": {},
   "outputs": [
    {
     "name": "stdout",
     "output_type": "stream",
     "text": [
      "(0.1150607040649326, 8.975809479368567e-06)\n"
     ]
    }
   ],
   "source": [
    "print(pearsonr(y_test,y_predict))"
   ]
  },
  {
   "cell_type": "markdown",
   "metadata": {},
   "source": [
    "### LightGBM"
   ]
  },
  {
   "cell_type": "code",
   "execution_count": 133,
   "metadata": {
    "collapsed": true
   },
   "outputs": [],
   "source": [
    "y_predict_proba = lgbm.predict(X_test)\n",
    "y_predict = np.where(y_predict_proba > 0.5,1,0)"
   ]
  },
  {
   "cell_type": "code",
   "execution_count": 134,
   "metadata": {},
   "outputs": [
    {
     "name": "stdout",
     "output_type": "stream",
     "text": [
      "recall:  0.32793522267206476\n",
      "auc: 0.5330634278002699\n",
      "accuracy:  0.5330634278002699\n"
     ]
    }
   ],
   "source": [
    "print(\"recall: \", recall_score(y_test,y_predict))\n",
    "print(\"auc:\", metrics.roc_auc_score(y_test,y_predict))\n",
    "print(\"accuracy: \", accuracy_score(y_test,y_predict))"
   ]
  },
  {
   "cell_type": "code",
   "execution_count": 135,
   "metadata": {},
   "outputs": [
    {
     "data": {
      "text/plain": [
       "[<matplotlib.lines.Line2D at 0x23a2df14438>]"
      ]
     },
     "execution_count": 135,
     "metadata": {},
     "output_type": "execute_result"
    },
    {
     "data": {
      "image/png": "[encoded data removed]",
      "text/plain": [
       "<matplotlib.figure.Figure at 0x23a296b8dd8>"
      ]
     },
     "metadata": {},
     "output_type": "display_data"
    }
   ],
   "source": [
    "fpr,tpr,threshore = metrics.roc_curve(y_test,y_predict_proba)\n",
    "plt.plot(fpr,tpr)"
   ]
  },
  {
   "cell_type": "markdown",
   "metadata": {},
   "source": [
    "- Issue: Looks like overfit (Or consider the population of train and test set) ==> Futher study in features selection\n",
    "- LightGBM seems better "
   ]
  },
  {
   "cell_type": "code",
   "execution_count": null,
   "metadata": {
    "collapsed": true
   },
   "outputs": [],
   "source": []
  }
 ],
 "metadata": {
  "kernelspec": {
   "display_name": "Python 3",
   "language": "python",
   "name": "python3"
  },
  "language_info": {
   "codemirror_mode": {
    "name": "ipython",
    "version": 3
   },
   "file_extension": ".py",
   "mimetype": "text/x-python",
   "name": "python",
   "nbconvert_exporter": "python",
   "pygments_lexer": "ipython3",
   "version": "3.6.3"
  }
 },
 "nbformat": 4,
 "nbformat_minor": 2
}
