{
 "cells": [
  {
   "cell_type": "markdown",
   "metadata": {},
   "source": [
    "### Summary\n",
    "- Read the data (csv files)\n",
    "\n",
    "- Visualize : \n",
    "    - Head() to have a glance of data\n",
    "    - Check the skewness => Normalize the data \n",
    "    - Check outliers \n",
    "    - View the distribution ( Q1,Q50, Q99...)\n",
    "    \n",
    "- Apply feature engineering \n",
    "    - Fill NaN (by mean, median, the most popular value)\n",
    "    - Cut the outlier (quantile)\n",
    "\n",
    "- Normalization:\n",
    "    - LabelEncoder (normalize the label)\n",
    "    - Min-max scaler the features \n",
    "    - Log scaler the target \n",
    "    \n",
    "- Decrease dimensions:\n",
    "    - Drop unimportance columns if any (low variance, uni-value, weak correlation with target and others)\n",
    "    - Apply PCA \n",
    "    \n",
    "- Decrease the data \n",
    "    - Binary feaure / one hot encoder\n",
    "    - Remove randomly the data by 10% ? - Don't do\n",
    "\n",
    "- Fit the model \n",
    "    - Model chosen: Random Forest, Boost (GradientBoostingRegressor, xboost), LightGBM, Elastic Net Regression, Ridge, \n",
    "    - Cross-validation \n",
    "    - Average model \n",
    "    \n",
    "- Extract the result to submission file "
   ]
  },
  {
   "cell_type": "code",
   "execution_count": 31,
   "metadata": {
    "_cell_guid": "2dbccbd6-138b-4f1b-9b23-fd60c7525c14",
    "_execution_state": "idle",
    "_uuid": "c9b1d5dff21d39260eb47af6fe7aac4bd03be233",
    "colab": {},
    "colab_type": "code",
    "collapsed": true,
    "id": "C9vFzOOX5xZA"
   },
   "outputs": [],
   "source": [
    "#import some necessary librairies\n",
    "import pandas as pd #for dataframe treatement\n",
    "import numpy as np #for array treatment\n",
    "import seaborn as sns #for visualization \n",
    "import  matplotlib.pyplot as plt #Using matlab style\n",
    "from scipy.stats import norm #for statistic\n",
    "from sklearn.preprocessing import StandardScaler #for PCA \n",
    "from sklearn.decomposition import PCA\n",
    "from sklearn.model_selection import train_test_split # For cross validation \n",
    "\n",
    "### Some kernels \n",
    "import xgboost as xgb \n",
    "from xgboost.sklearn import XGBClassifier\n",
    "\n",
    "#Set some default values\n",
    "sns.set(rc={\"figure.figsize\": (9, 6)})\n",
    "pd.set_option(\"display.float_format\", lambda x: '{:.3f}'.format(x))\n",
    "\n",
    "# 4/dgCHYH-ZRfwLp9MV7wM3XUpcFCBq8IA0ALccIGATjsuAb4Y76So7SNA"
   ]
  },
  {
   "cell_type": "code",
   "execution_count": 32,
   "metadata": {
    "_cell_guid": "59617b4b-d797-44ce-9142-05fbfd36aada",
    "_execution_state": "idle",
    "_uuid": "0e694d13459e3e200f6e2c6333c887cbad779ba9",
    "colab": {
     "base_uri": "https://localhost:8080/",
     "height": 932
    },
    "colab_type": "code",
    "id": "6Y_D6Yv05xZU",
    "outputId": "2f95c76c-bf3c-4435-fcdc-19fc0a9cffcd"
   },
   "outputs": [
    {
     "name": "stdout",
     "output_type": "stream",
     "text": [
      "(1460, 81)\n",
      "(1459, 80)\n"
     ]
    }
   ],
   "source": [
    "#Read input files , pay attention in upcase and lowcase\n",
    "train = pd.read_csv(r'C:\\Users\\lenovo\\Downloads\\House-Prices-Competition-master\\House-Prices-Competition-master\\train.csv')\n",
    "test = pd.read_csv(r'C:\\Users\\lenovo\\Downloads\\House-Prices-Competition-master\\House-Prices-Competition-master\\test.csv')\n",
    "\n",
    "\n",
    "print(train.shape)\n",
    "print(test.shape)"
   ]
  },
  {
   "cell_type": "markdown",
   "metadata": {
    "colab_type": "text",
    "id": "d2xeSBkg5xZr"
   },
   "source": [
    "## Data exploration"
   ]
  },
  {
   "cell_type": "code",
   "execution_count": 33,
   "metadata": {
    "_cell_guid": "3678529f-9d76-4853-88c5-4b2d230a85b6",
    "_execution_state": "idle",
    "_uuid": "3a32f51460a02fbe7a9122db55a740eb378dda97",
    "colab": {
     "base_uri": "https://localhost:8080/",
     "height": 251
    },
    "colab_type": "code",
    "id": "G8rWrjWr5xZu",
    "outputId": "6b1697bf-7033-4485-d1d3-9a6910f742a9"
   },
   "outputs": [
    {
     "data": {
      "text/html": [
       "<div>\n",
       "<style scoped>\n",
       "    .dataframe tbody tr th:only-of-type {\n",
       "        vertical-align: middle;\n",
       "    }\n",
       "\n",
       "    .dataframe tbody tr th {\n",
       "        vertical-align: top;\n",
       "    }\n",
       "\n",
       "    .dataframe thead th {\n",
       "        text-align: right;\n",
       "    }\n",
       "</style>\n",
       "<table border=\"1\" class=\"dataframe\">\n",
       "  <thead>\n",
       "    <tr style=\"text-align: right;\">\n",
       "      <th></th>\n",
       "      <th>Id</th>\n",
       "      <th>MSSubClass</th>\n",
       "      <th>MSZoning</th>\n",
       "      <th>LotFrontage</th>\n",
       "      <th>LotArea</th>\n",
       "      <th>Street</th>\n",
       "      <th>Alley</th>\n",
       "      <th>LotShape</th>\n",
       "      <th>LandContour</th>\n",
       "      <th>Utilities</th>\n",
       "      <th>...</th>\n",
       "      <th>PoolArea</th>\n",
       "      <th>PoolQC</th>\n",
       "      <th>Fence</th>\n",
       "      <th>MiscFeature</th>\n",
       "      <th>MiscVal</th>\n",
       "      <th>MoSold</th>\n",
       "      <th>YrSold</th>\n",
       "      <th>SaleType</th>\n",
       "      <th>SaleCondition</th>\n",
       "      <th>SalePrice</th>\n",
       "    </tr>\n",
       "  </thead>\n",
       "  <tbody>\n",
       "    <tr>\n",
       "      <th>0</th>\n",
       "      <td>1</td>\n",
       "      <td>60</td>\n",
       "      <td>RL</td>\n",
       "      <td>65.000</td>\n",
       "      <td>8450</td>\n",
       "      <td>Pave</td>\n",
       "      <td>NaN</td>\n",
       "      <td>Reg</td>\n",
       "      <td>Lvl</td>\n",
       "      <td>AllPub</td>\n",
       "      <td>...</td>\n",
       "      <td>0</td>\n",
       "      <td>NaN</td>\n",
       "      <td>NaN</td>\n",
       "      <td>NaN</td>\n",
       "      <td>0</td>\n",
       "      <td>2</td>\n",
       "      <td>2008</td>\n",
       "      <td>WD</td>\n",
       "      <td>Normal</td>\n",
       "      <td>208500</td>\n",
       "    </tr>\n",
       "    <tr>\n",
       "      <th>1</th>\n",
       "      <td>2</td>\n",
       "      <td>20</td>\n",
       "      <td>RL</td>\n",
       "      <td>80.000</td>\n",
       "      <td>9600</td>\n",
       "      <td>Pave</td>\n",
       "      <td>NaN</td>\n",
       "      <td>Reg</td>\n",
       "      <td>Lvl</td>\n",
       "      <td>AllPub</td>\n",
       "      <td>...</td>\n",
       "      <td>0</td>\n",
       "      <td>NaN</td>\n",
       "      <td>NaN</td>\n",
       "      <td>NaN</td>\n",
       "      <td>0</td>\n",
       "      <td>5</td>\n",
       "      <td>2007</td>\n",
       "      <td>WD</td>\n",
       "      <td>Normal</td>\n",
       "      <td>181500</td>\n",
       "    </tr>\n",
       "    <tr>\n",
       "      <th>2</th>\n",
       "      <td>3</td>\n",
       "      <td>60</td>\n",
       "      <td>RL</td>\n",
       "      <td>68.000</td>\n",
       "      <td>11250</td>\n",
       "      <td>Pave</td>\n",
       "      <td>NaN</td>\n",
       "      <td>IR1</td>\n",
       "      <td>Lvl</td>\n",
       "      <td>AllPub</td>\n",
       "      <td>...</td>\n",
       "      <td>0</td>\n",
       "      <td>NaN</td>\n",
       "      <td>NaN</td>\n",
       "      <td>NaN</td>\n",
       "      <td>0</td>\n",
       "      <td>9</td>\n",
       "      <td>2008</td>\n",
       "      <td>WD</td>\n",
       "      <td>Normal</td>\n",
       "      <td>223500</td>\n",
       "    </tr>\n",
       "    <tr>\n",
       "      <th>3</th>\n",
       "      <td>4</td>\n",
       "      <td>70</td>\n",
       "      <td>RL</td>\n",
       "      <td>60.000</td>\n",
       "      <td>9550</td>\n",
       "      <td>Pave</td>\n",
       "      <td>NaN</td>\n",
       "      <td>IR1</td>\n",
       "      <td>Lvl</td>\n",
       "      <td>AllPub</td>\n",
       "      <td>...</td>\n",
       "      <td>0</td>\n",
       "      <td>NaN</td>\n",
       "      <td>NaN</td>\n",
       "      <td>NaN</td>\n",
       "      <td>0</td>\n",
       "      <td>2</td>\n",
       "      <td>2006</td>\n",
       "      <td>WD</td>\n",
       "      <td>Abnorml</td>\n",
       "      <td>140000</td>\n",
       "    </tr>\n",
       "    <tr>\n",
       "      <th>4</th>\n",
       "      <td>5</td>\n",
       "      <td>60</td>\n",
       "      <td>RL</td>\n",
       "      <td>84.000</td>\n",
       "      <td>14260</td>\n",
       "      <td>Pave</td>\n",
       "      <td>NaN</td>\n",
       "      <td>IR1</td>\n",
       "      <td>Lvl</td>\n",
       "      <td>AllPub</td>\n",
       "      <td>...</td>\n",
       "      <td>0</td>\n",
       "      <td>NaN</td>\n",
       "      <td>NaN</td>\n",
       "      <td>NaN</td>\n",
       "      <td>0</td>\n",
       "      <td>12</td>\n",
       "      <td>2008</td>\n",
       "      <td>WD</td>\n",
       "      <td>Normal</td>\n",
       "      <td>250000</td>\n",
       "    </tr>\n",
       "  </tbody>\n",
       "</table>\n",
       "<p>5 rows × 81 columns</p>\n",
       "</div>"
      ],
      "text/plain": [
       "   Id  MSSubClass MSZoning  LotFrontage  LotArea Street Alley LotShape  \\\n",
       "0   1          60       RL       65.000     8450   Pave   NaN      Reg   \n",
       "1   2          20       RL       80.000     9600   Pave   NaN      Reg   \n",
       "2   3          60       RL       68.000    11250   Pave   NaN      IR1   \n",
       "3   4          70       RL       60.000     9550   Pave   NaN      IR1   \n",
       "4   5          60       RL       84.000    14260   Pave   NaN      IR1   \n",
       "\n",
       "  LandContour Utilities    ...     PoolArea PoolQC Fence MiscFeature MiscVal  \\\n",
       "0         Lvl    AllPub    ...            0    NaN   NaN         NaN       0   \n",
       "1         Lvl    AllPub    ...            0    NaN   NaN         NaN       0   \n",
       "2         Lvl    AllPub    ...            0    NaN   NaN         NaN       0   \n",
       "3         Lvl    AllPub    ...            0    NaN   NaN         NaN       0   \n",
       "4         Lvl    AllPub    ...            0    NaN   NaN         NaN       0   \n",
       "\n",
       "  MoSold YrSold  SaleType  SaleCondition  SalePrice  \n",
       "0      2   2008        WD         Normal     208500  \n",
       "1      5   2007        WD         Normal     181500  \n",
       "2      9   2008        WD         Normal     223500  \n",
       "3      2   2006        WD        Abnorml     140000  \n",
       "4     12   2008        WD         Normal     250000  \n",
       "\n",
       "[5 rows x 81 columns]"
      ]
     },
     "execution_count": 33,
     "metadata": {},
     "output_type": "execute_result"
    }
   ],
   "source": [
    "##display the first five rows of the train dataset.\n",
    "train.head(5)"
   ]
  },
  {
   "cell_type": "markdown",
   "metadata": {
    "colab_type": "text",
    "id": "ZiFFQVhc-GNn"
   },
   "source": [
    " **There are many NaN values. Let's check the numerical and categories value**"
   ]
  },
  {
   "cell_type": "code",
   "execution_count": 34,
   "metadata": {
    "colab": {
     "base_uri": "https://localhost:8080/",
     "height": 251
    },
    "colab_type": "code",
    "id": "SLrvky8R5xZ7",
    "outputId": "afd38691-2176-4c19-ace1-aa073aa8b34f"
   },
   "outputs": [
    {
     "data": {
      "text/html": [
       "<div>\n",
       "<style scoped>\n",
       "    .dataframe tbody tr th:only-of-type {\n",
       "        vertical-align: middle;\n",
       "    }\n",
       "\n",
       "    .dataframe tbody tr th {\n",
       "        vertical-align: top;\n",
       "    }\n",
       "\n",
       "    .dataframe thead th {\n",
       "        text-align: right;\n",
       "    }\n",
       "</style>\n",
       "<table border=\"1\" class=\"dataframe\">\n",
       "  <thead>\n",
       "    <tr style=\"text-align: right;\">\n",
       "      <th></th>\n",
       "      <th>Id</th>\n",
       "      <th>MSSubClass</th>\n",
       "      <th>LotFrontage</th>\n",
       "      <th>LotArea</th>\n",
       "      <th>OverallQual</th>\n",
       "      <th>OverallCond</th>\n",
       "      <th>YearBuilt</th>\n",
       "      <th>YearRemodAdd</th>\n",
       "      <th>MasVnrArea</th>\n",
       "      <th>BsmtFinSF1</th>\n",
       "      <th>...</th>\n",
       "      <th>WoodDeckSF</th>\n",
       "      <th>OpenPorchSF</th>\n",
       "      <th>EnclosedPorch</th>\n",
       "      <th>3SsnPorch</th>\n",
       "      <th>ScreenPorch</th>\n",
       "      <th>PoolArea</th>\n",
       "      <th>MiscVal</th>\n",
       "      <th>MoSold</th>\n",
       "      <th>YrSold</th>\n",
       "      <th>SalePrice</th>\n",
       "    </tr>\n",
       "  </thead>\n",
       "  <tbody>\n",
       "    <tr>\n",
       "      <th>count</th>\n",
       "      <td>1460.000</td>\n",
       "      <td>1460.000</td>\n",
       "      <td>1201.000</td>\n",
       "      <td>1460.000</td>\n",
       "      <td>1460.000</td>\n",
       "      <td>1460.000</td>\n",
       "      <td>1460.000</td>\n",
       "      <td>1460.000</td>\n",
       "      <td>1452.000</td>\n",
       "      <td>1460.000</td>\n",
       "      <td>...</td>\n",
       "      <td>1460.000</td>\n",
       "      <td>1460.000</td>\n",
       "      <td>1460.000</td>\n",
       "      <td>1460.000</td>\n",
       "      <td>1460.000</td>\n",
       "      <td>1460.000</td>\n",
       "      <td>1460.000</td>\n",
       "      <td>1460.000</td>\n",
       "      <td>1460.000</td>\n",
       "      <td>1460.000</td>\n",
       "    </tr>\n",
       "    <tr>\n",
       "      <th>mean</th>\n",
       "      <td>730.500</td>\n",
       "      <td>56.897</td>\n",
       "      <td>70.050</td>\n",
       "      <td>10516.828</td>\n",
       "      <td>6.099</td>\n",
       "      <td>5.575</td>\n",
       "      <td>1971.268</td>\n",
       "      <td>1984.866</td>\n",
       "      <td>103.685</td>\n",
       "      <td>443.640</td>\n",
       "      <td>...</td>\n",
       "      <td>94.245</td>\n",
       "      <td>46.660</td>\n",
       "      <td>21.954</td>\n",
       "      <td>3.410</td>\n",
       "      <td>15.061</td>\n",
       "      <td>2.759</td>\n",
       "      <td>43.489</td>\n",
       "      <td>6.322</td>\n",
       "      <td>2007.816</td>\n",
       "      <td>180921.196</td>\n",
       "    </tr>\n",
       "    <tr>\n",
       "      <th>std</th>\n",
       "      <td>421.610</td>\n",
       "      <td>42.301</td>\n",
       "      <td>24.285</td>\n",
       "      <td>9981.265</td>\n",
       "      <td>1.383</td>\n",
       "      <td>1.113</td>\n",
       "      <td>30.203</td>\n",
       "      <td>20.645</td>\n",
       "      <td>181.066</td>\n",
       "      <td>456.098</td>\n",
       "      <td>...</td>\n",
       "      <td>125.339</td>\n",
       "      <td>66.256</td>\n",
       "      <td>61.119</td>\n",
       "      <td>29.317</td>\n",
       "      <td>55.757</td>\n",
       "      <td>40.177</td>\n",
       "      <td>496.123</td>\n",
       "      <td>2.704</td>\n",
       "      <td>1.328</td>\n",
       "      <td>79442.503</td>\n",
       "    </tr>\n",
       "    <tr>\n",
       "      <th>min</th>\n",
       "      <td>1.000</td>\n",
       "      <td>20.000</td>\n",
       "      <td>21.000</td>\n",
       "      <td>1300.000</td>\n",
       "      <td>1.000</td>\n",
       "      <td>1.000</td>\n",
       "      <td>1872.000</td>\n",
       "      <td>1950.000</td>\n",
       "      <td>0.000</td>\n",
       "      <td>0.000</td>\n",
       "      <td>...</td>\n",
       "      <td>0.000</td>\n",
       "      <td>0.000</td>\n",
       "      <td>0.000</td>\n",
       "      <td>0.000</td>\n",
       "      <td>0.000</td>\n",
       "      <td>0.000</td>\n",
       "      <td>0.000</td>\n",
       "      <td>1.000</td>\n",
       "      <td>2006.000</td>\n",
       "      <td>34900.000</td>\n",
       "    </tr>\n",
       "    <tr>\n",
       "      <th>25%</th>\n",
       "      <td>365.750</td>\n",
       "      <td>20.000</td>\n",
       "      <td>59.000</td>\n",
       "      <td>7553.500</td>\n",
       "      <td>5.000</td>\n",
       "      <td>5.000</td>\n",
       "      <td>1954.000</td>\n",
       "      <td>1967.000</td>\n",
       "      <td>0.000</td>\n",
       "      <td>0.000</td>\n",
       "      <td>...</td>\n",
       "      <td>0.000</td>\n",
       "      <td>0.000</td>\n",
       "      <td>0.000</td>\n",
       "      <td>0.000</td>\n",
       "      <td>0.000</td>\n",
       "      <td>0.000</td>\n",
       "      <td>0.000</td>\n",
       "      <td>5.000</td>\n",
       "      <td>2007.000</td>\n",
       "      <td>129975.000</td>\n",
       "    </tr>\n",
       "  </tbody>\n",
       "</table>\n",
       "<p>5 rows × 38 columns</p>\n",
       "</div>"
      ],
      "text/plain": [
       "            Id  MSSubClass  LotFrontage   LotArea  OverallQual  OverallCond  \\\n",
       "count 1460.000    1460.000     1201.000  1460.000     1460.000     1460.000   \n",
       "mean   730.500      56.897       70.050 10516.828        6.099        5.575   \n",
       "std    421.610      42.301       24.285  9981.265        1.383        1.113   \n",
       "min      1.000      20.000       21.000  1300.000        1.000        1.000   \n",
       "25%    365.750      20.000       59.000  7553.500        5.000        5.000   \n",
       "\n",
       "       YearBuilt  YearRemodAdd  MasVnrArea  BsmtFinSF1    ...      WoodDeckSF  \\\n",
       "count   1460.000      1460.000    1452.000    1460.000    ...        1460.000   \n",
       "mean    1971.268      1984.866     103.685     443.640    ...          94.245   \n",
       "std       30.203        20.645     181.066     456.098    ...         125.339   \n",
       "min     1872.000      1950.000       0.000       0.000    ...           0.000   \n",
       "25%     1954.000      1967.000       0.000       0.000    ...           0.000   \n",
       "\n",
       "       OpenPorchSF  EnclosedPorch  3SsnPorch  ScreenPorch  PoolArea  MiscVal  \\\n",
       "count     1460.000       1460.000   1460.000     1460.000  1460.000 1460.000   \n",
       "mean        46.660         21.954      3.410       15.061     2.759   43.489   \n",
       "std         66.256         61.119     29.317       55.757    40.177  496.123   \n",
       "min          0.000          0.000      0.000        0.000     0.000    0.000   \n",
       "25%          0.000          0.000      0.000        0.000     0.000    0.000   \n",
       "\n",
       "        MoSold   YrSold  SalePrice  \n",
       "count 1460.000 1460.000   1460.000  \n",
       "mean     6.322 2007.816 180921.196  \n",
       "std      2.704    1.328  79442.503  \n",
       "min      1.000 2006.000  34900.000  \n",
       "25%      5.000 2007.000 129975.000  \n",
       "\n",
       "[5 rows x 38 columns]"
      ]
     },
     "execution_count": 34,
     "metadata": {},
     "output_type": "execute_result"
    }
   ],
   "source": [
    "train.describe().head(5)"
   ]
  },
  {
   "cell_type": "markdown",
   "metadata": {
    "colab_type": "text",
    "id": "vcXlIA3L5xaH"
   },
   "source": [
    "**==> There are 38 numerical features out of 81  => The categorical features are more many.**"
   ]
  },
  {
   "cell_type": "code",
   "execution_count": 35,
   "metadata": {
    "colab": {
     "base_uri": "https://localhost:8080/",
     "height": 251
    },
    "colab_type": "code",
    "id": "DHxPob_nNA_o",
    "outputId": "66541469-a552-4c6d-94ae-7371400b7d0c"
   },
   "outputs": [
    {
     "data": {
      "text/html": [
       "<div>\n",
       "<style scoped>\n",
       "    .dataframe tbody tr th:only-of-type {\n",
       "        vertical-align: middle;\n",
       "    }\n",
       "\n",
       "    .dataframe tbody tr th {\n",
       "        vertical-align: top;\n",
       "    }\n",
       "\n",
       "    .dataframe thead th {\n",
       "        text-align: right;\n",
       "    }\n",
       "</style>\n",
       "<table border=\"1\" class=\"dataframe\">\n",
       "  <thead>\n",
       "    <tr style=\"text-align: right;\">\n",
       "      <th></th>\n",
       "      <th>Id</th>\n",
       "      <th>MSSubClass</th>\n",
       "      <th>MSZoning</th>\n",
       "      <th>LotFrontage</th>\n",
       "      <th>LotArea</th>\n",
       "      <th>Street</th>\n",
       "      <th>Alley</th>\n",
       "      <th>LotShape</th>\n",
       "      <th>LandContour</th>\n",
       "      <th>Utilities</th>\n",
       "      <th>...</th>\n",
       "      <th>ScreenPorch</th>\n",
       "      <th>PoolArea</th>\n",
       "      <th>PoolQC</th>\n",
       "      <th>Fence</th>\n",
       "      <th>MiscFeature</th>\n",
       "      <th>MiscVal</th>\n",
       "      <th>MoSold</th>\n",
       "      <th>YrSold</th>\n",
       "      <th>SaleType</th>\n",
       "      <th>SaleCondition</th>\n",
       "    </tr>\n",
       "  </thead>\n",
       "  <tbody>\n",
       "    <tr>\n",
       "      <th>0</th>\n",
       "      <td>1461</td>\n",
       "      <td>20</td>\n",
       "      <td>RH</td>\n",
       "      <td>80.000</td>\n",
       "      <td>11622</td>\n",
       "      <td>Pave</td>\n",
       "      <td>NaN</td>\n",
       "      <td>Reg</td>\n",
       "      <td>Lvl</td>\n",
       "      <td>AllPub</td>\n",
       "      <td>...</td>\n",
       "      <td>120</td>\n",
       "      <td>0</td>\n",
       "      <td>NaN</td>\n",
       "      <td>MnPrv</td>\n",
       "      <td>NaN</td>\n",
       "      <td>0</td>\n",
       "      <td>6</td>\n",
       "      <td>2010</td>\n",
       "      <td>WD</td>\n",
       "      <td>Normal</td>\n",
       "    </tr>\n",
       "    <tr>\n",
       "      <th>1</th>\n",
       "      <td>1462</td>\n",
       "      <td>20</td>\n",
       "      <td>RL</td>\n",
       "      <td>81.000</td>\n",
       "      <td>14267</td>\n",
       "      <td>Pave</td>\n",
       "      <td>NaN</td>\n",
       "      <td>IR1</td>\n",
       "      <td>Lvl</td>\n",
       "      <td>AllPub</td>\n",
       "      <td>...</td>\n",
       "      <td>0</td>\n",
       "      <td>0</td>\n",
       "      <td>NaN</td>\n",
       "      <td>NaN</td>\n",
       "      <td>Gar2</td>\n",
       "      <td>12500</td>\n",
       "      <td>6</td>\n",
       "      <td>2010</td>\n",
       "      <td>WD</td>\n",
       "      <td>Normal</td>\n",
       "    </tr>\n",
       "    <tr>\n",
       "      <th>2</th>\n",
       "      <td>1463</td>\n",
       "      <td>60</td>\n",
       "      <td>RL</td>\n",
       "      <td>74.000</td>\n",
       "      <td>13830</td>\n",
       "      <td>Pave</td>\n",
       "      <td>NaN</td>\n",
       "      <td>IR1</td>\n",
       "      <td>Lvl</td>\n",
       "      <td>AllPub</td>\n",
       "      <td>...</td>\n",
       "      <td>0</td>\n",
       "      <td>0</td>\n",
       "      <td>NaN</td>\n",
       "      <td>MnPrv</td>\n",
       "      <td>NaN</td>\n",
       "      <td>0</td>\n",
       "      <td>3</td>\n",
       "      <td>2010</td>\n",
       "      <td>WD</td>\n",
       "      <td>Normal</td>\n",
       "    </tr>\n",
       "    <tr>\n",
       "      <th>3</th>\n",
       "      <td>1464</td>\n",
       "      <td>60</td>\n",
       "      <td>RL</td>\n",
       "      <td>78.000</td>\n",
       "      <td>9978</td>\n",
       "      <td>Pave</td>\n",
       "      <td>NaN</td>\n",
       "      <td>IR1</td>\n",
       "      <td>Lvl</td>\n",
       "      <td>AllPub</td>\n",
       "      <td>...</td>\n",
       "      <td>0</td>\n",
       "      <td>0</td>\n",
       "      <td>NaN</td>\n",
       "      <td>NaN</td>\n",
       "      <td>NaN</td>\n",
       "      <td>0</td>\n",
       "      <td>6</td>\n",
       "      <td>2010</td>\n",
       "      <td>WD</td>\n",
       "      <td>Normal</td>\n",
       "    </tr>\n",
       "    <tr>\n",
       "      <th>4</th>\n",
       "      <td>1465</td>\n",
       "      <td>120</td>\n",
       "      <td>RL</td>\n",
       "      <td>43.000</td>\n",
       "      <td>5005</td>\n",
       "      <td>Pave</td>\n",
       "      <td>NaN</td>\n",
       "      <td>IR1</td>\n",
       "      <td>HLS</td>\n",
       "      <td>AllPub</td>\n",
       "      <td>...</td>\n",
       "      <td>144</td>\n",
       "      <td>0</td>\n",
       "      <td>NaN</td>\n",
       "      <td>NaN</td>\n",
       "      <td>NaN</td>\n",
       "      <td>0</td>\n",
       "      <td>1</td>\n",
       "      <td>2010</td>\n",
       "      <td>WD</td>\n",
       "      <td>Normal</td>\n",
       "    </tr>\n",
       "  </tbody>\n",
       "</table>\n",
       "<p>5 rows × 80 columns</p>\n",
       "</div>"
      ],
      "text/plain": [
       "     Id  MSSubClass MSZoning  LotFrontage  LotArea Street Alley LotShape  \\\n",
       "0  1461          20       RH       80.000    11622   Pave   NaN      Reg   \n",
       "1  1462          20       RL       81.000    14267   Pave   NaN      IR1   \n",
       "2  1463          60       RL       74.000    13830   Pave   NaN      IR1   \n",
       "3  1464          60       RL       78.000     9978   Pave   NaN      IR1   \n",
       "4  1465         120       RL       43.000     5005   Pave   NaN      IR1   \n",
       "\n",
       "  LandContour Utilities      ...       ScreenPorch PoolArea PoolQC  Fence  \\\n",
       "0         Lvl    AllPub      ...               120        0    NaN  MnPrv   \n",
       "1         Lvl    AllPub      ...                 0        0    NaN    NaN   \n",
       "2         Lvl    AllPub      ...                 0        0    NaN  MnPrv   \n",
       "3         Lvl    AllPub      ...                 0        0    NaN    NaN   \n",
       "4         HLS    AllPub      ...               144        0    NaN    NaN   \n",
       "\n",
       "  MiscFeature MiscVal MoSold  YrSold  SaleType  SaleCondition  \n",
       "0         NaN       0      6    2010        WD         Normal  \n",
       "1        Gar2   12500      6    2010        WD         Normal  \n",
       "2         NaN       0      3    2010        WD         Normal  \n",
       "3         NaN       0      6    2010        WD         Normal  \n",
       "4         NaN       0      1    2010        WD         Normal  \n",
       "\n",
       "[5 rows x 80 columns]"
      ]
     },
     "execution_count": 35,
     "metadata": {},
     "output_type": "execute_result"
    }
   ],
   "source": [
    "test.head()"
   ]
  },
  {
   "cell_type": "markdown",
   "metadata": {
    "colab_type": "text",
    "id": "VcU3pOv2-yyc"
   },
   "source": [
    "**==> There are 38 numerical features out of 81 in the test set\n",
    " Save the data for before feature engineering **\n",
    "\n"
   ]
  },
  {
   "cell_type": "markdown",
   "metadata": {
    "colab_type": "text",
    "id": "Q17qYW9w5xag"
   },
   "source": [
    "### Check skweness \n",
    "* train set"
   ]
  },
  {
   "cell_type": "code",
   "execution_count": 36,
   "metadata": {
    "colab": {
     "base_uri": "https://localhost:8080/",
     "height": 236
    },
    "colab_type": "code",
    "id": "bmTRB0pM5xav",
    "outputId": "aafd49c0-df33-4fd6-c618-d8fbe301afe2"
   },
   "outputs": [
    {
     "name": "stdout",
     "output_type": "stream",
     "text": [
      "LotFrontage            : 2.163569\n",
      "LotArea            : 12.207688\n",
      "MasVnrArea            : 2.669084\n",
      "BsmtFinSF1            : 1.685503\n",
      "BsmtFinSF2            : 4.255261\n",
      "TotalBsmtSF            : 1.524255\n",
      "LowQualFinSF            : 9.011341\n",
      "BsmtHalfBath            : 4.103403\n",
      "KitchenAbvGr            : 4.488397\n",
      "WoodDeckSF            : 1.541376\n",
      "OpenPorchSF            : 2.364342\n",
      "EnclosedPorch            : 3.089872\n",
      "3SsnPorch            : 10.304342\n",
      "ScreenPorch            : 4.122214\n",
      "PoolArea            : 14.828374\n",
      "MiscVal            : 24.476794\n",
      "SalePrice            : 1.882876\n",
      "Total:  17\n"
     ]
    }
   ],
   "source": [
    "numeric_feature =train.select_dtypes(include=[np.number])\n",
    "#numeric_feature.apply(lambda x: var_summary(x)).T\n",
    "i = 0 \n",
    "temp = pd.DataFrame()\n",
    "for c in numeric_feature: \n",
    "  feat = numeric_feature[c].skew()\n",
    "  if feat >=1.5:\n",
    "    print (\"%s            : %f\" % (c,feat))\n",
    "    temp.loc[:,c] = numeric_feature[c]\n",
    "    i+=1\n",
    "print (\"Total: \", i)"
   ]
  },
  {
   "cell_type": "markdown",
   "metadata": {
    "colab_type": "text",
    "id": "8a5dOpd5F4G_"
   },
   "source": [
    "** Many features are skewed.**\n",
    "\n",
    "\n",
    "\n",
    "*   ==> 1/ When filling the NaN, choose median instead of mean\n",
    "*   ==> 2/ Need to normalize them before fitting\n"
   ]
  },
  {
   "cell_type": "markdown",
   "metadata": {
    "colab_type": "text",
    "id": "DhUy6lFBHyn4"
   },
   "source": [
    "### Check distribution\n"
   ]
  },
  {
   "cell_type": "code",
   "execution_count": 37,
   "metadata": {
    "colab": {},
    "colab_type": "code",
    "collapsed": true,
    "id": "H9NwoNk-G7WF"
   },
   "outputs": [],
   "source": [
    "def var_summary(x):\n",
    "    return pd.Series([x.min(),x.quantile(0.01),x.quantile(0.05),x.quantile(0.10),x.quantile(0.50),x.quantile(0.75),x.quantile(0.95),x.quantile(0.99),x.max()],index=[\"Min\",\"Q1\",\"Q5\",\"Q10\",\"Q50\",\"Q75\",\"Q95\",\"Q99\",\"Max\"])"
   ]
  },
  {
   "cell_type": "code",
   "execution_count": 38,
   "metadata": {
    "colab": {
     "base_uri": "https://localhost:8080/",
     "height": 1153
    },
    "colab_type": "code",
    "id": "xnTlj5mmJ8Lx",
    "outputId": "8c454bfa-6821-4de0-befd-d37659691220",
    "scrolled": false
   },
   "outputs": [
    {
     "data": {
      "text/html": [
       "<div>\n",
       "<style scoped>\n",
       "    .dataframe tbody tr th:only-of-type {\n",
       "        vertical-align: middle;\n",
       "    }\n",
       "\n",
       "    .dataframe tbody tr th {\n",
       "        vertical-align: top;\n",
       "    }\n",
       "\n",
       "    .dataframe thead th {\n",
       "        text-align: right;\n",
       "    }\n",
       "</style>\n",
       "<table border=\"1\" class=\"dataframe\">\n",
       "  <thead>\n",
       "    <tr style=\"text-align: right;\">\n",
       "      <th></th>\n",
       "      <th>Min</th>\n",
       "      <th>Q1</th>\n",
       "      <th>Q5</th>\n",
       "      <th>Q10</th>\n",
       "      <th>Q50</th>\n",
       "      <th>Q75</th>\n",
       "      <th>Q95</th>\n",
       "      <th>Q99</th>\n",
       "      <th>Max</th>\n",
       "    </tr>\n",
       "  </thead>\n",
       "  <tbody>\n",
       "    <tr>\n",
       "      <th>Id</th>\n",
       "      <td>1.000</td>\n",
       "      <td>15.590</td>\n",
       "      <td>73.950</td>\n",
       "      <td>146.900</td>\n",
       "      <td>730.500</td>\n",
       "      <td>1095.250</td>\n",
       "      <td>1387.050</td>\n",
       "      <td>1445.410</td>\n",
       "      <td>1460.000</td>\n",
       "    </tr>\n",
       "    <tr>\n",
       "      <th>MSSubClass</th>\n",
       "      <td>20.000</td>\n",
       "      <td>20.000</td>\n",
       "      <td>20.000</td>\n",
       "      <td>20.000</td>\n",
       "      <td>50.000</td>\n",
       "      <td>70.000</td>\n",
       "      <td>160.000</td>\n",
       "      <td>190.000</td>\n",
       "      <td>190.000</td>\n",
       "    </tr>\n",
       "    <tr>\n",
       "      <th>LotFrontage</th>\n",
       "      <td>21.000</td>\n",
       "      <td>21.000</td>\n",
       "      <td>34.000</td>\n",
       "      <td>44.000</td>\n",
       "      <td>69.000</td>\n",
       "      <td>80.000</td>\n",
       "      <td>107.000</td>\n",
       "      <td>141.000</td>\n",
       "      <td>313.000</td>\n",
       "    </tr>\n",
       "    <tr>\n",
       "      <th>LotArea</th>\n",
       "      <td>1300.000</td>\n",
       "      <td>1680.000</td>\n",
       "      <td>3311.700</td>\n",
       "      <td>5000.000</td>\n",
       "      <td>9478.500</td>\n",
       "      <td>11601.500</td>\n",
       "      <td>17401.150</td>\n",
       "      <td>37567.640</td>\n",
       "      <td>215245.000</td>\n",
       "    </tr>\n",
       "    <tr>\n",
       "      <th>OverallQual</th>\n",
       "      <td>1.000</td>\n",
       "      <td>3.000</td>\n",
       "      <td>4.000</td>\n",
       "      <td>5.000</td>\n",
       "      <td>6.000</td>\n",
       "      <td>7.000</td>\n",
       "      <td>8.000</td>\n",
       "      <td>10.000</td>\n",
       "      <td>10.000</td>\n",
       "    </tr>\n",
       "    <tr>\n",
       "      <th>OverallCond</th>\n",
       "      <td>1.000</td>\n",
       "      <td>3.000</td>\n",
       "      <td>4.000</td>\n",
       "      <td>5.000</td>\n",
       "      <td>5.000</td>\n",
       "      <td>6.000</td>\n",
       "      <td>8.000</td>\n",
       "      <td>9.000</td>\n",
       "      <td>9.000</td>\n",
       "    </tr>\n",
       "    <tr>\n",
       "      <th>YearBuilt</th>\n",
       "      <td>1872.000</td>\n",
       "      <td>1899.180</td>\n",
       "      <td>1916.000</td>\n",
       "      <td>1924.900</td>\n",
       "      <td>1973.000</td>\n",
       "      <td>2000.000</td>\n",
       "      <td>2007.000</td>\n",
       "      <td>2009.000</td>\n",
       "      <td>2010.000</td>\n",
       "    </tr>\n",
       "    <tr>\n",
       "      <th>YearRemodAdd</th>\n",
       "      <td>1950.000</td>\n",
       "      <td>1950.000</td>\n",
       "      <td>1950.000</td>\n",
       "      <td>1950.000</td>\n",
       "      <td>1994.000</td>\n",
       "      <td>2004.000</td>\n",
       "      <td>2007.000</td>\n",
       "      <td>2009.000</td>\n",
       "      <td>2010.000</td>\n",
       "    </tr>\n",
       "    <tr>\n",
       "      <th>MasVnrArea</th>\n",
       "      <td>0.000</td>\n",
       "      <td>0.000</td>\n",
       "      <td>0.000</td>\n",
       "      <td>0.000</td>\n",
       "      <td>0.000</td>\n",
       "      <td>166.000</td>\n",
       "      <td>456.000</td>\n",
       "      <td>791.920</td>\n",
       "      <td>1600.000</td>\n",
       "    </tr>\n",
       "    <tr>\n",
       "      <th>BsmtFinSF1</th>\n",
       "      <td>0.000</td>\n",
       "      <td>0.000</td>\n",
       "      <td>0.000</td>\n",
       "      <td>0.000</td>\n",
       "      <td>383.500</td>\n",
       "      <td>712.250</td>\n",
       "      <td>1274.000</td>\n",
       "      <td>1572.410</td>\n",
       "      <td>5644.000</td>\n",
       "    </tr>\n",
       "    <tr>\n",
       "      <th>BsmtFinSF2</th>\n",
       "      <td>0.000</td>\n",
       "      <td>0.000</td>\n",
       "      <td>0.000</td>\n",
       "      <td>0.000</td>\n",
       "      <td>0.000</td>\n",
       "      <td>0.000</td>\n",
       "      <td>396.200</td>\n",
       "      <td>830.380</td>\n",
       "      <td>1474.000</td>\n",
       "    </tr>\n",
       "    <tr>\n",
       "      <th>BsmtUnfSF</th>\n",
       "      <td>0.000</td>\n",
       "      <td>0.000</td>\n",
       "      <td>0.000</td>\n",
       "      <td>74.900</td>\n",
       "      <td>477.500</td>\n",
       "      <td>808.000</td>\n",
       "      <td>1468.000</td>\n",
       "      <td>1797.050</td>\n",
       "      <td>2336.000</td>\n",
       "    </tr>\n",
       "    <tr>\n",
       "      <th>TotalBsmtSF</th>\n",
       "      <td>0.000</td>\n",
       "      <td>0.000</td>\n",
       "      <td>519.300</td>\n",
       "      <td>636.900</td>\n",
       "      <td>991.500</td>\n",
       "      <td>1298.250</td>\n",
       "      <td>1753.000</td>\n",
       "      <td>2155.050</td>\n",
       "      <td>6110.000</td>\n",
       "    </tr>\n",
       "    <tr>\n",
       "      <th>1stFlrSF</th>\n",
       "      <td>334.000</td>\n",
       "      <td>520.000</td>\n",
       "      <td>672.950</td>\n",
       "      <td>756.900</td>\n",
       "      <td>1087.000</td>\n",
       "      <td>1391.250</td>\n",
       "      <td>1831.250</td>\n",
       "      <td>2219.460</td>\n",
       "      <td>4692.000</td>\n",
       "    </tr>\n",
       "    <tr>\n",
       "      <th>2ndFlrSF</th>\n",
       "      <td>0.000</td>\n",
       "      <td>0.000</td>\n",
       "      <td>0.000</td>\n",
       "      <td>0.000</td>\n",
       "      <td>0.000</td>\n",
       "      <td>728.000</td>\n",
       "      <td>1141.050</td>\n",
       "      <td>1418.920</td>\n",
       "      <td>2065.000</td>\n",
       "    </tr>\n",
       "    <tr>\n",
       "      <th>LowQualFinSF</th>\n",
       "      <td>0.000</td>\n",
       "      <td>0.000</td>\n",
       "      <td>0.000</td>\n",
       "      <td>0.000</td>\n",
       "      <td>0.000</td>\n",
       "      <td>0.000</td>\n",
       "      <td>0.000</td>\n",
       "      <td>360.000</td>\n",
       "      <td>572.000</td>\n",
       "    </tr>\n",
       "    <tr>\n",
       "      <th>GrLivArea</th>\n",
       "      <td>334.000</td>\n",
       "      <td>692.180</td>\n",
       "      <td>848.000</td>\n",
       "      <td>912.000</td>\n",
       "      <td>1464.000</td>\n",
       "      <td>1776.750</td>\n",
       "      <td>2466.100</td>\n",
       "      <td>3123.480</td>\n",
       "      <td>5642.000</td>\n",
       "    </tr>\n",
       "    <tr>\n",
       "      <th>BsmtFullBath</th>\n",
       "      <td>0.000</td>\n",
       "      <td>0.000</td>\n",
       "      <td>0.000</td>\n",
       "      <td>0.000</td>\n",
       "      <td>0.000</td>\n",
       "      <td>1.000</td>\n",
       "      <td>1.000</td>\n",
       "      <td>2.000</td>\n",
       "      <td>3.000</td>\n",
       "    </tr>\n",
       "    <tr>\n",
       "      <th>BsmtHalfBath</th>\n",
       "      <td>0.000</td>\n",
       "      <td>0.000</td>\n",
       "      <td>0.000</td>\n",
       "      <td>0.000</td>\n",
       "      <td>0.000</td>\n",
       "      <td>0.000</td>\n",
       "      <td>1.000</td>\n",
       "      <td>1.000</td>\n",
       "      <td>2.000</td>\n",
       "    </tr>\n",
       "    <tr>\n",
       "      <th>FullBath</th>\n",
       "      <td>0.000</td>\n",
       "      <td>1.000</td>\n",
       "      <td>1.000</td>\n",
       "      <td>1.000</td>\n",
       "      <td>2.000</td>\n",
       "      <td>2.000</td>\n",
       "      <td>2.000</td>\n",
       "      <td>3.000</td>\n",
       "      <td>3.000</td>\n",
       "    </tr>\n",
       "    <tr>\n",
       "      <th>HalfBath</th>\n",
       "      <td>0.000</td>\n",
       "      <td>0.000</td>\n",
       "      <td>0.000</td>\n",
       "      <td>0.000</td>\n",
       "      <td>0.000</td>\n",
       "      <td>1.000</td>\n",
       "      <td>1.000</td>\n",
       "      <td>1.000</td>\n",
       "      <td>2.000</td>\n",
       "    </tr>\n",
       "    <tr>\n",
       "      <th>BedroomAbvGr</th>\n",
       "      <td>0.000</td>\n",
       "      <td>1.000</td>\n",
       "      <td>2.000</td>\n",
       "      <td>2.000</td>\n",
       "      <td>3.000</td>\n",
       "      <td>3.000</td>\n",
       "      <td>4.000</td>\n",
       "      <td>5.000</td>\n",
       "      <td>8.000</td>\n",
       "    </tr>\n",
       "    <tr>\n",
       "      <th>KitchenAbvGr</th>\n",
       "      <td>0.000</td>\n",
       "      <td>1.000</td>\n",
       "      <td>1.000</td>\n",
       "      <td>1.000</td>\n",
       "      <td>1.000</td>\n",
       "      <td>1.000</td>\n",
       "      <td>1.000</td>\n",
       "      <td>2.000</td>\n",
       "      <td>3.000</td>\n",
       "    </tr>\n",
       "    <tr>\n",
       "      <th>TotRmsAbvGrd</th>\n",
       "      <td>2.000</td>\n",
       "      <td>3.000</td>\n",
       "      <td>4.000</td>\n",
       "      <td>5.000</td>\n",
       "      <td>6.000</td>\n",
       "      <td>7.000</td>\n",
       "      <td>10.000</td>\n",
       "      <td>11.000</td>\n",
       "      <td>14.000</td>\n",
       "    </tr>\n",
       "    <tr>\n",
       "      <th>Fireplaces</th>\n",
       "      <td>0.000</td>\n",
       "      <td>0.000</td>\n",
       "      <td>0.000</td>\n",
       "      <td>0.000</td>\n",
       "      <td>1.000</td>\n",
       "      <td>1.000</td>\n",
       "      <td>2.000</td>\n",
       "      <td>2.000</td>\n",
       "      <td>3.000</td>\n",
       "    </tr>\n",
       "    <tr>\n",
       "      <th>GarageYrBlt</th>\n",
       "      <td>1900.000</td>\n",
       "      <td>1916.000</td>\n",
       "      <td>1930.000</td>\n",
       "      <td>1945.000</td>\n",
       "      <td>1980.000</td>\n",
       "      <td>2002.000</td>\n",
       "      <td>2007.000</td>\n",
       "      <td>2009.000</td>\n",
       "      <td>2010.000</td>\n",
       "    </tr>\n",
       "    <tr>\n",
       "      <th>GarageCars</th>\n",
       "      <td>0.000</td>\n",
       "      <td>0.000</td>\n",
       "      <td>0.000</td>\n",
       "      <td>1.000</td>\n",
       "      <td>2.000</td>\n",
       "      <td>2.000</td>\n",
       "      <td>3.000</td>\n",
       "      <td>3.000</td>\n",
       "      <td>4.000</td>\n",
       "    </tr>\n",
       "    <tr>\n",
       "      <th>GarageArea</th>\n",
       "      <td>0.000</td>\n",
       "      <td>0.000</td>\n",
       "      <td>0.000</td>\n",
       "      <td>240.000</td>\n",
       "      <td>480.000</td>\n",
       "      <td>576.000</td>\n",
       "      <td>850.100</td>\n",
       "      <td>1002.790</td>\n",
       "      <td>1418.000</td>\n",
       "    </tr>\n",
       "    <tr>\n",
       "      <th>WoodDeckSF</th>\n",
       "      <td>0.000</td>\n",
       "      <td>0.000</td>\n",
       "      <td>0.000</td>\n",
       "      <td>0.000</td>\n",
       "      <td>0.000</td>\n",
       "      <td>168.000</td>\n",
       "      <td>335.000</td>\n",
       "      <td>505.460</td>\n",
       "      <td>857.000</td>\n",
       "    </tr>\n",
       "    <tr>\n",
       "      <th>OpenPorchSF</th>\n",
       "      <td>0.000</td>\n",
       "      <td>0.000</td>\n",
       "      <td>0.000</td>\n",
       "      <td>0.000</td>\n",
       "      <td>25.000</td>\n",
       "      <td>68.000</td>\n",
       "      <td>175.050</td>\n",
       "      <td>285.820</td>\n",
       "      <td>547.000</td>\n",
       "    </tr>\n",
       "    <tr>\n",
       "      <th>EnclosedPorch</th>\n",
       "      <td>0.000</td>\n",
       "      <td>0.000</td>\n",
       "      <td>0.000</td>\n",
       "      <td>0.000</td>\n",
       "      <td>0.000</td>\n",
       "      <td>0.000</td>\n",
       "      <td>180.150</td>\n",
       "      <td>261.050</td>\n",
       "      <td>552.000</td>\n",
       "    </tr>\n",
       "    <tr>\n",
       "      <th>3SsnPorch</th>\n",
       "      <td>0.000</td>\n",
       "      <td>0.000</td>\n",
       "      <td>0.000</td>\n",
       "      <td>0.000</td>\n",
       "      <td>0.000</td>\n",
       "      <td>0.000</td>\n",
       "      <td>0.000</td>\n",
       "      <td>168.000</td>\n",
       "      <td>508.000</td>\n",
       "    </tr>\n",
       "    <tr>\n",
       "      <th>ScreenPorch</th>\n",
       "      <td>0.000</td>\n",
       "      <td>0.000</td>\n",
       "      <td>0.000</td>\n",
       "      <td>0.000</td>\n",
       "      <td>0.000</td>\n",
       "      <td>0.000</td>\n",
       "      <td>160.000</td>\n",
       "      <td>268.050</td>\n",
       "      <td>480.000</td>\n",
       "    </tr>\n",
       "    <tr>\n",
       "      <th>PoolArea</th>\n",
       "      <td>0.000</td>\n",
       "      <td>0.000</td>\n",
       "      <td>0.000</td>\n",
       "      <td>0.000</td>\n",
       "      <td>0.000</td>\n",
       "      <td>0.000</td>\n",
       "      <td>0.000</td>\n",
       "      <td>0.000</td>\n",
       "      <td>738.000</td>\n",
       "    </tr>\n",
       "    <tr>\n",
       "      <th>MiscVal</th>\n",
       "      <td>0.000</td>\n",
       "      <td>0.000</td>\n",
       "      <td>0.000</td>\n",
       "      <td>0.000</td>\n",
       "      <td>0.000</td>\n",
       "      <td>0.000</td>\n",
       "      <td>0.000</td>\n",
       "      <td>700.000</td>\n",
       "      <td>15500.000</td>\n",
       "    </tr>\n",
       "    <tr>\n",
       "      <th>MoSold</th>\n",
       "      <td>1.000</td>\n",
       "      <td>1.000</td>\n",
       "      <td>2.000</td>\n",
       "      <td>3.000</td>\n",
       "      <td>6.000</td>\n",
       "      <td>8.000</td>\n",
       "      <td>11.000</td>\n",
       "      <td>12.000</td>\n",
       "      <td>12.000</td>\n",
       "    </tr>\n",
       "    <tr>\n",
       "      <th>YrSold</th>\n",
       "      <td>2006.000</td>\n",
       "      <td>2006.000</td>\n",
       "      <td>2006.000</td>\n",
       "      <td>2006.000</td>\n",
       "      <td>2008.000</td>\n",
       "      <td>2009.000</td>\n",
       "      <td>2010.000</td>\n",
       "      <td>2010.000</td>\n",
       "      <td>2010.000</td>\n",
       "    </tr>\n",
       "    <tr>\n",
       "      <th>SalePrice</th>\n",
       "      <td>34900.000</td>\n",
       "      <td>61815.970</td>\n",
       "      <td>88000.000</td>\n",
       "      <td>106475.000</td>\n",
       "      <td>163000.000</td>\n",
       "      <td>214000.000</td>\n",
       "      <td>326100.000</td>\n",
       "      <td>442567.010</td>\n",
       "      <td>755000.000</td>\n",
       "    </tr>\n",
       "  </tbody>\n",
       "</table>\n",
       "</div>"
      ],
      "text/plain": [
       "                    Min        Q1        Q5        Q10        Q50        Q75  \\\n",
       "Id                1.000    15.590    73.950    146.900    730.500   1095.250   \n",
       "MSSubClass       20.000    20.000    20.000     20.000     50.000     70.000   \n",
       "LotFrontage      21.000    21.000    34.000     44.000     69.000     80.000   \n",
       "LotArea        1300.000  1680.000  3311.700   5000.000   9478.500  11601.500   \n",
       "OverallQual       1.000     3.000     4.000      5.000      6.000      7.000   \n",
       "OverallCond       1.000     3.000     4.000      5.000      5.000      6.000   \n",
       "YearBuilt      1872.000  1899.180  1916.000   1924.900   1973.000   2000.000   \n",
       "YearRemodAdd   1950.000  1950.000  1950.000   1950.000   1994.000   2004.000   \n",
       "MasVnrArea        0.000     0.000     0.000      0.000      0.000    166.000   \n",
       "BsmtFinSF1        0.000     0.000     0.000      0.000    383.500    712.250   \n",
       "BsmtFinSF2        0.000     0.000     0.000      0.000      0.000      0.000   \n",
       "BsmtUnfSF         0.000     0.000     0.000     74.900    477.500    808.000   \n",
       "TotalBsmtSF       0.000     0.000   519.300    636.900    991.500   1298.250   \n",
       "1stFlrSF        334.000   520.000   672.950    756.900   1087.000   1391.250   \n",
       "2ndFlrSF          0.000     0.000     0.000      0.000      0.000    728.000   \n",
       "LowQualFinSF      0.000     0.000     0.000      0.000      0.000      0.000   \n",
       "GrLivArea       334.000   692.180   848.000    912.000   1464.000   1776.750   \n",
       "BsmtFullBath      0.000     0.000     0.000      0.000      0.000      1.000   \n",
       "BsmtHalfBath      0.000     0.000     0.000      0.000      0.000      0.000   \n",
       "FullBath          0.000     1.000     1.000      1.000      2.000      2.000   \n",
       "HalfBath          0.000     0.000     0.000      0.000      0.000      1.000   \n",
       "BedroomAbvGr      0.000     1.000     2.000      2.000      3.000      3.000   \n",
       "KitchenAbvGr      0.000     1.000     1.000      1.000      1.000      1.000   \n",
       "TotRmsAbvGrd      2.000     3.000     4.000      5.000      6.000      7.000   \n",
       "Fireplaces        0.000     0.000     0.000      0.000      1.000      1.000   \n",
       "GarageYrBlt    1900.000  1916.000  1930.000   1945.000   1980.000   2002.000   \n",
       "GarageCars        0.000     0.000     0.000      1.000      2.000      2.000   \n",
       "GarageArea        0.000     0.000     0.000    240.000    480.000    576.000   \n",
       "WoodDeckSF        0.000     0.000     0.000      0.000      0.000    168.000   \n",
       "OpenPorchSF       0.000     0.000     0.000      0.000     25.000     68.000   \n",
       "EnclosedPorch     0.000     0.000     0.000      0.000      0.000      0.000   \n",
       "3SsnPorch         0.000     0.000     0.000      0.000      0.000      0.000   \n",
       "ScreenPorch       0.000     0.000     0.000      0.000      0.000      0.000   \n",
       "PoolArea          0.000     0.000     0.000      0.000      0.000      0.000   \n",
       "MiscVal           0.000     0.000     0.000      0.000      0.000      0.000   \n",
       "MoSold            1.000     1.000     2.000      3.000      6.000      8.000   \n",
       "YrSold         2006.000  2006.000  2006.000   2006.000   2008.000   2009.000   \n",
       "SalePrice     34900.000 61815.970 88000.000 106475.000 163000.000 214000.000   \n",
       "\n",
       "                     Q95        Q99        Max  \n",
       "Id              1387.050   1445.410   1460.000  \n",
       "MSSubClass       160.000    190.000    190.000  \n",
       "LotFrontage      107.000    141.000    313.000  \n",
       "LotArea        17401.150  37567.640 215245.000  \n",
       "OverallQual        8.000     10.000     10.000  \n",
       "OverallCond        8.000      9.000      9.000  \n",
       "YearBuilt       2007.000   2009.000   2010.000  \n",
       "YearRemodAdd    2007.000   2009.000   2010.000  \n",
       "MasVnrArea       456.000    791.920   1600.000  \n",
       "BsmtFinSF1      1274.000   1572.410   5644.000  \n",
       "BsmtFinSF2       396.200    830.380   1474.000  \n",
       "BsmtUnfSF       1468.000   1797.050   2336.000  \n",
       "TotalBsmtSF     1753.000   2155.050   6110.000  \n",
       "1stFlrSF        1831.250   2219.460   4692.000  \n",
       "2ndFlrSF        1141.050   1418.920   2065.000  \n",
       "LowQualFinSF       0.000    360.000    572.000  \n",
       "GrLivArea       2466.100   3123.480   5642.000  \n",
       "BsmtFullBath       1.000      2.000      3.000  \n",
       "BsmtHalfBath       1.000      1.000      2.000  \n",
       "FullBath           2.000      3.000      3.000  \n",
       "HalfBath           1.000      1.000      2.000  \n",
       "BedroomAbvGr       4.000      5.000      8.000  \n",
       "KitchenAbvGr       1.000      2.000      3.000  \n",
       "TotRmsAbvGrd      10.000     11.000     14.000  \n",
       "Fireplaces         2.000      2.000      3.000  \n",
       "GarageYrBlt     2007.000   2009.000   2010.000  \n",
       "GarageCars         3.000      3.000      4.000  \n",
       "GarageArea       850.100   1002.790   1418.000  \n",
       "WoodDeckSF       335.000    505.460    857.000  \n",
       "OpenPorchSF      175.050    285.820    547.000  \n",
       "EnclosedPorch    180.150    261.050    552.000  \n",
       "3SsnPorch          0.000    168.000    508.000  \n",
       "ScreenPorch      160.000    268.050    480.000  \n",
       "PoolArea           0.000      0.000    738.000  \n",
       "MiscVal            0.000    700.000  15500.000  \n",
       "MoSold            11.000     12.000     12.000  \n",
       "YrSold          2010.000   2010.000   2010.000  \n",
       "SalePrice     326100.000 442567.010 755000.000  "
      ]
     },
     "execution_count": 38,
     "metadata": {},
     "output_type": "execute_result"
    }
   ],
   "source": [
    "numeric_feature.apply(lambda x: var_summary(x)).T"
   ]
  },
  {
   "cell_type": "markdown",
   "metadata": {},
   "source": [
    "**\n",
    "- Outliers: LotFrontage, LotArea, MasVnrArea, BsmtFinSF1, BsmtFinSF2, TotalBsmtSF, 1stFlrSF, GrLivArea, LowQualFinSF, OpenPorchSF, 3SsnPorch, ScreenPorch, MiscVal\n",
    "- Remove PoolArea \n",
    "** "
   ]
  },
  {
   "cell_type": "markdown",
   "metadata": {},
   "source": [
    "### Check correlation"
   ]
  },
  {
   "cell_type": "code",
   "execution_count": 39,
   "metadata": {
    "collapsed": true
   },
   "outputs": [],
   "source": [
    "corr = numeric_feature.corr()"
   ]
  },
  {
   "cell_type": "code",
   "execution_count": 40,
   "metadata": {},
   "outputs": [
    {
     "data": {
      "image/png": "[encoded data removed]",
      "text/plain": [
       "<matplotlib.figure.Figure at 0x1cac3b3b940>"
      ]
     },
     "metadata": {},
     "output_type": "display_data"
    }
   ],
   "source": [
    "#Visualize the correlation \n",
    "\n",
    "mask = np.zeros_like(corr, dtype=np.bool)\n",
    "mask[np.triu_indices_from(mask)] = True\n",
    "\n",
    "plt.figure(figsize=(9,9))\n",
    "\n",
    "# Generate a ustom diverging colormap\n",
    "cmap = sns.diverging_palette(220, 10, as_cmap=True)\n",
    "\n",
    "# Draw the heatmap with the mask and correct aspect ratio\n",
    "sns.heatmap(corr, mask=mask, cmap=cmap, vmax=.3, center=0,\n",
    "            square=True, linewidths=.5, cbar_kws={\"shrink\": .5})\n",
    "\n",
    "plt.show()"
   ]
  },
  {
   "cell_type": "markdown",
   "metadata": {},
   "source": [
    "** No strong correlation **\n",
    "- Remove OpenPorchSF, 3SsnPorch, ScreenPorch, EnclosedPorch\t"
   ]
  },
  {
   "cell_type": "markdown",
   "metadata": {},
   "source": [
    "### Concat the train and test set for further using "
   ]
  },
  {
   "cell_type": "code",
   "execution_count": 41,
   "metadata": {
    "_cell_guid": "ff37c1ba-8679-49e0-b3c8-9c53d01b1b04",
    "_execution_state": "idle",
    "_uuid": "816b1463b3dd0daf44949a1fa15ebfbc0e2f1235",
    "colab": {},
    "colab_type": "code",
    "id": "GBmvaa_Y5xaV"
   },
   "outputs": [
    {
     "name": "stdout",
     "output_type": "stream",
     "text": [
      "Stored 'test_Id' (Series)\n",
      "Stored 'ntrain' (int)\n"
     ]
    }
   ],
   "source": [
    "# Save the ID for later use\n",
    "test_Id = test[\"Id\"]\n",
    "%store test_Id\n",
    "train_Id = train[\"Id\"]\n",
    "\n",
    "# Drop ID because it's not useful. \n",
    "train = train.drop([\"Id\"],axis=1)\n",
    "test = test.drop([\"Id\"],axis=1)\n",
    "\n",
    "#Count number of rows of train and test set\n",
    "ntrain = train.shape[0]\n",
    "ntest = test.shape[0]\n",
    "\n",
    "# Move SalePrice column in training set to target value (y_train)\n",
    "y_train = train.SalePrice.values\n",
    "train = train.drop([\"SalePrice\"],axis=1)\n",
    "%store ntrain"
   ]
  },
  {
   "cell_type": "code",
   "execution_count": 42,
   "metadata": {},
   "outputs": [
    {
     "name": "stdout",
     "output_type": "stream",
     "text": [
      "(1460,)\n"
     ]
    }
   ],
   "source": [
    "print(y_train.shape)"
   ]
  },
  {
   "cell_type": "code",
   "execution_count": 43,
   "metadata": {
    "colab": {
     "base_uri": "https://localhost:8080/",
     "height": 69
    },
    "colab_type": "code",
    "id": "TC6Scj7J5xct",
    "outputId": "238b75ad-1647-4932-c68d-448b1b141a02"
   },
   "outputs": [
    {
     "name": "stdout",
     "output_type": "stream",
     "text": [
      "(1460, 79)\n",
      "(1459, 79)\n",
      "(2919, 79)\n"
     ]
    }
   ],
   "source": [
    "train_test_concat = pd.concat((train,test)).reset_index(drop=True)\n",
    "\n",
    "#Print to verify \n",
    "print(train.shape)\n",
    "print(test.shape)\n",
    "print(train_test_concat.shape)"
   ]
  },
  {
   "cell_type": "code",
   "execution_count": 44,
   "metadata": {
    "colab": {
     "base_uri": "https://localhost:8080/",
     "height": 468
    },
    "colab_type": "code",
    "id": "q1_Z5v2tNLEN",
    "outputId": "cc1221ac-ec8d-4a06-a407-bf3a754d1f9f"
   },
   "outputs": [
    {
     "name": "stdout",
     "output_type": "stream",
     "text": [
      "Pave    2907\n",
      "Grvl      12\n",
      "Name: Street, dtype: int64\n",
      "NaN     2721\n",
      "Grvl     120\n",
      "Pave      78\n",
      "Name: Alley, dtype: int64\n",
      "AllPub    2916\n",
      "NaN          2\n",
      "NoSeWa       1\n",
      "Name: Utilities, dtype: int64\n",
      "Gtl    2778\n",
      "Mod     125\n",
      "Sev      16\n",
      "Name: LandSlope, dtype: int64\n",
      "Y    2723\n",
      "N     196\n",
      "Name: CentralAir, dtype: int64\n",
      "0    1834\n",
      "1    1060\n",
      "2      25\n",
      "Name: HalfBath, dtype: int64\n",
      "Y    2641\n",
      "N     216\n",
      "P      62\n",
      "Name: PavedDrive, dtype: int64\n"
     ]
    }
   ],
   "source": [
    "# Visualize features having few values \n",
    "for c in train_test_concat:\n",
    "    y = train_test_concat[c].value_counts(dropna=False)\n",
    "    if y.count() < 4: \n",
    "      print( y)\n",
    "    "
   ]
  },
  {
   "cell_type": "markdown",
   "metadata": {},
   "source": [
    "** ==> Drop Street and Utilities which are low variance"
   ]
  },
  {
   "cell_type": "markdown",
   "metadata": {
    "colab_type": "text",
    "id": "7YLnaMUT5xcr"
   },
   "source": [
    "## Feature engineering\n",
    "* Missing values \n",
    "    * Remove row with too many null value - consider correlation before \n",
    "    * Fill value with Median, None, the most popular category value\n",
    "* Reduce dimension\n",
    "* Add new features"
   ]
  },
  {
   "cell_type": "code",
   "execution_count": 45,
   "metadata": {
    "colab": {},
    "colab_type": "code",
    "collapsed": true,
    "id": "ZZubhQyr5xfb"
   },
   "outputs": [],
   "source": [
    "#Only 1 values => remove \n",
    "train_test_concat = train_test_concat.drop(['Utilities'], axis=1)\n",
    "train_test_concat = train_test_concat.drop(['Street'], axis=1)\n",
    "train_test_concat = train_test_concat.drop(['OpenPorchSF'], axis=1)\n",
    "train_test_concat = train_test_concat.drop(['3SsnPorch'], axis=1)\n",
    "train_test_concat = train_test_concat.drop(['ScreenPorch'], axis=1)\n",
    "train_test_concat = train_test_concat.drop(['EnclosedPorch'], axis=1)\n",
    "train_test_concat = train_test_concat.drop(['PoolArea'], axis=1)"
   ]
  },
  {
   "cell_type": "code",
   "execution_count": 46,
   "metadata": {
    "_cell_guid": "b24451a1-fb8c-4094-ad0b-0940469d07fc",
    "_execution_state": "idle",
    "_uuid": "687813c270cbfdedccc7a9e4ec9fbb78a99d54ed",
    "colab": {
     "base_uri": "https://localhost:8080/",
     "height": 35
    },
    "colab_type": "code",
    "id": "G3xONbw45xc2",
    "outputId": "28fb57b7-d14e-4b22-847e-bcd2ec53203f"
   },
   "outputs": [
    {
     "data": {
      "text/plain": [
       "0"
      ]
     },
     "execution_count": 46,
     "metadata": {},
     "output_type": "execute_result"
    }
   ],
   "source": [
    "#Count the duplicate\n",
    "train.duplicated().sum()\n",
    "test.duplicated().sum()"
   ]
  },
  {
   "cell_type": "code",
   "execution_count": 47,
   "metadata": {
    "colab": {
     "base_uri": "https://localhost:8080/",
     "height": 381
    },
    "colab_type": "code",
    "id": "Xmyi3oK65xc_",
    "outputId": "8f27739c-a6ba-4a7b-b91c-c56e7abc6ff3"
   },
   "outputs": [
    {
     "data": {
      "text/plain": [
       "PoolQC         99.521\n",
       "MiscFeature    96.301\n",
       "Alley          93.767\n",
       "Fence          80.753\n",
       "FireplaceQu    47.260\n",
       "LotFrontage    17.740\n",
       "GarageCond      5.548\n",
       "GarageType      5.548\n",
       "GarageYrBlt     5.548\n",
       "GarageFinish    5.548\n",
       "GarageQual      5.548\n",
       "BsmtExposure    2.603\n",
       "BsmtFinType2    2.603\n",
       "BsmtFinType1    2.534\n",
       "BsmtCond        2.534\n",
       "BsmtQual        2.534\n",
       "MasVnrArea      0.548\n",
       "MasVnrType      0.548\n",
       "Electrical      0.068\n",
       "LotConfig       0.000\n",
       "dtype: float64"
      ]
     },
     "execution_count": 47,
     "metadata": {},
     "output_type": "execute_result"
    }
   ],
   "source": [
    "#counting null values \n",
    "null_value=train.isnull().sum() / len(train) *100\n",
    "null_value=null_value.sort_values(ascending=False)\n",
    "\n",
    "null_value.head(20)"
   ]
  },
  {
   "cell_type": "code",
   "execution_count": 48,
   "metadata": {
    "colab": {},
    "colab_type": "code",
    "collapsed": true,
    "id": "Ev7Rw_Oo5xdd"
   },
   "outputs": [],
   "source": [
    "for col in (\"PoolQC\",\"MiscFeature\",\"Alley\"):\n",
    "    train_test_concat[col]=train_test_concat[col].fillna(\"None\")\n"
   ]
  },
  {
   "cell_type": "code",
   "execution_count": 49,
   "metadata": {
    "colab": {},
    "colab_type": "code",
    "collapsed": true,
    "id": "b7mCEmDj5xdk"
   },
   "outputs": [],
   "source": [
    "#Fence \n",
    "train_test_concat.Fence = train_test_concat.Fence.fillna(\"None\")"
   ]
  },
  {
   "cell_type": "code",
   "execution_count": 50,
   "metadata": {
    "colab": {},
    "colab_type": "code",
    "collapsed": true,
    "id": "rO4-nrWI5xdu"
   },
   "outputs": [],
   "source": [
    "#FireplaceQu\n",
    "train_test_concat.FireplaceQu = train_test_concat.FireplaceQu.fillna(\"None\")"
   ]
  },
  {
   "cell_type": "code",
   "execution_count": 51,
   "metadata": {
    "colab": {},
    "colab_type": "code",
    "collapsed": true,
    "id": "KL-OYpRl5xd4"
   },
   "outputs": [],
   "source": [
    "#LotFrontage - Numerical -> Fill by median is usually more exact than mean \n",
    "train_test_concat.LotFrontage = train_test_concat.groupby(\"Neighborhood\")[\"LotFrontage\"].transform(lambda x: x.fillna(x.median()))"
   ]
  },
  {
   "cell_type": "code",
   "execution_count": 52,
   "metadata": {
    "colab": {},
    "colab_type": "code",
    "collapsed": true,
    "id": "hVeyC_2u5xeV"
   },
   "outputs": [],
   "source": [
    "#No garage \n",
    "for col in ('GarageType', 'GarageFinish', 'GarageQual', 'GarageCond'):\n",
    "    train_test_concat[col]=train_test_concat[col].fillna(\"None\")"
   ]
  },
  {
   "cell_type": "code",
   "execution_count": 53,
   "metadata": {
    "colab": {},
    "colab_type": "code",
    "collapsed": true,
    "id": "bU4cSQV45xeb"
   },
   "outputs": [],
   "source": [
    "#No garage \n",
    "for col in ('GarageYrBlt', 'GarageArea', 'GarageCars'):\n",
    "    train_test_concat[col]=train_test_concat[col].fillna(0)"
   ]
  },
  {
   "cell_type": "code",
   "execution_count": 54,
   "metadata": {
    "colab": {},
    "colab_type": "code",
    "collapsed": true,
    "id": "NfvDxCRV5xei"
   },
   "outputs": [],
   "source": [
    "#No basement\n",
    "for col in ('BsmtFinSF1', 'BsmtFinSF2', 'BsmtUnfSF','TotalBsmtSF', 'BsmtFullBath', 'BsmtHalfBath'):\n",
    "    train_test_concat[col] = train_test_concat[col].fillna(0)"
   ]
  },
  {
   "cell_type": "code",
   "execution_count": 55,
   "metadata": {
    "colab": {},
    "colab_type": "code",
    "collapsed": true,
    "id": "f24TqulD5xeq"
   },
   "outputs": [],
   "source": [
    "for col in ('BsmtQual', 'BsmtCond', 'BsmtExposure', 'BsmtFinType1', 'BsmtFinType2'):\n",
    "    train_test_concat[col] = train_test_concat[col].fillna('None')"
   ]
  },
  {
   "cell_type": "code",
   "execution_count": 56,
   "metadata": {
    "colab": {},
    "colab_type": "code",
    "collapsed": true,
    "id": "k8jSO3OY5xe0"
   },
   "outputs": [],
   "source": [
    "train_test_concat[\"MasVnrType\"] = train_test_concat[\"MasVnrType\"].fillna(\"None\")\n",
    "train_test_concat[\"MasVnrArea\"] = train_test_concat[\"MasVnrArea\"].fillna(0)"
   ]
  },
  {
   "cell_type": "code",
   "execution_count": 57,
   "metadata": {
    "colab": {},
    "colab_type": "code",
    "collapsed": true,
    "id": "xXCYruMG5xe_"
   },
   "outputs": [],
   "source": [
    "#==> Fill by the most polpular category\n",
    "train_test_concat[\"MSZoning\"] = train_test_concat[\"MSZoning\"].fillna(train_test_concat['MSZoning'].mode()[0])"
   ]
  },
  {
   "cell_type": "code",
   "execution_count": 58,
   "metadata": {
    "colab": {},
    "colab_type": "code",
    "collapsed": true,
    "id": "pjxFr_AL5xfi"
   },
   "outputs": [],
   "source": [
    "#==> Fille the missing with the most polpular category\n",
    "train_test_concat[\"Functional\"] = train_test_concat[\"Functional\"].fillna(train_test_concat['Functional'].mode()[0])"
   ]
  },
  {
   "cell_type": "code",
   "execution_count": 59,
   "metadata": {
    "colab": {},
    "colab_type": "code",
    "collapsed": true,
    "id": "xvE05Vej5xft"
   },
   "outputs": [],
   "source": [
    "train_test_concat['Electrical'] = train_test_concat['Electrical'].fillna(train_test_concat['Electrical'].mode()[0])"
   ]
  },
  {
   "cell_type": "code",
   "execution_count": 60,
   "metadata": {
    "colab": {},
    "colab_type": "code",
    "collapsed": true,
    "id": "nR0E0HUC5xf8"
   },
   "outputs": [],
   "source": [
    "train_test_concat['KitchenQual'] = train_test_concat['KitchenQual'].fillna(train_test_concat['KitchenQual'].mode()[0])"
   ]
  },
  {
   "cell_type": "code",
   "execution_count": 61,
   "metadata": {
    "colab": {},
    "colab_type": "code",
    "collapsed": true,
    "id": "r9QCeQvD5xgC"
   },
   "outputs": [],
   "source": [
    "train_test_concat['Exterior1st'] = train_test_concat['Exterior1st'].fillna(train_test_concat['Exterior1st'].mode()[0])\n",
    "train_test_concat['Exterior2nd'] = train_test_concat['Exterior2nd'].fillna(train_test_concat['Exterior2nd'].mode()[0])"
   ]
  },
  {
   "cell_type": "code",
   "execution_count": 62,
   "metadata": {
    "colab": {},
    "colab_type": "code",
    "collapsed": true,
    "id": "IW9x2oYM5xgH"
   },
   "outputs": [],
   "source": [
    "train_test_concat['SaleType'] = train_test_concat['SaleType'].fillna(train_test_concat['SaleType'].mode()[0])"
   ]
  },
  {
   "cell_type": "code",
   "execution_count": 63,
   "metadata": {
    "colab": {},
    "colab_type": "code",
    "collapsed": true,
    "id": "Qp6y13HX5xgO"
   },
   "outputs": [],
   "source": [
    "train_test_concat['MSSubClass'] = train_test_concat['MSSubClass'].fillna(\"None\")"
   ]
  },
  {
   "cell_type": "code",
   "execution_count": 64,
   "metadata": {
    "colab": {
     "base_uri": "https://localhost:8080/",
     "height": 121
    },
    "colab_type": "code",
    "id": "uwEF73Mp5xgg",
    "outputId": "fec7e08a-2b0b-4df0-f75e-d77ade36b1d4"
   },
   "outputs": [
    {
     "name": "stdout",
     "output_type": "stream",
     "text": [
      "SaleCondition    0\n",
      "SaleType         0\n",
      "RoofMatl         0\n",
      "Exterior1st      0\n",
      "Exterior2nd      0\n",
      "dtype: int64\n"
     ]
    }
   ],
   "source": [
    "#Verify if there is missing values \n",
    "print(train_test_concat.isnull().sum().sort_values(ascending=False).head())"
   ]
  },
  {
   "cell_type": "markdown",
   "metadata": {},
   "source": []
  },
  {
   "cell_type": "markdown",
   "metadata": {},
   "source": [
    "### Return to train set and test set "
   ]
  },
  {
   "cell_type": "markdown",
   "metadata": {},
   "source": [
    "### Cut outliers"
   ]
  },
  {
   "cell_type": "code",
   "execution_count": 65,
   "metadata": {
    "collapsed": true
   },
   "outputs": [],
   "source": [
    "train = train_test_concat[:ntrain]\n",
    "test = train_test_concat[ntrain:]"
   ]
  },
  {
   "cell_type": "code",
   "execution_count": 66,
   "metadata": {},
   "outputs": [
    {
     "data": {
      "text/plain": [
       "(1460, 72)"
      ]
     },
     "execution_count": 66,
     "metadata": {},
     "output_type": "execute_result"
    }
   ],
   "source": [
    "train.shape"
   ]
  },
  {
   "cell_type": "code",
   "execution_count": 67,
   "metadata": {},
   "outputs": [
    {
     "data": {
      "text/plain": [
       "(1459, 72)"
      ]
     },
     "execution_count": 67,
     "metadata": {},
     "output_type": "execute_result"
    }
   ],
   "source": [
    "test.shape"
   ]
  },
  {
   "cell_type": "code",
   "execution_count": 68,
   "metadata": {},
   "outputs": [
    {
     "name": "stderr",
     "output_type": "stream",
     "text": [
      "C:\\Users\\lenovo\\Anaconda3\\lib\\site-packages\\ipykernel_launcher.py:2: SettingWithCopyWarning: \n",
      "A value is trying to be set on a copy of a slice from a DataFrame.\n",
      "Try using .loc[row_indexer,col_indexer] = value instead\n",
      "\n",
      "See the caveats in the documentation: http://pandas.pydata.org/pandas-docs/stable/indexing.html#indexing-view-versus-copy\n",
      "  \n",
      "C:\\Users\\lenovo\\Anaconda3\\lib\\site-packages\\ipykernel_launcher.py:3: SettingWithCopyWarning: \n",
      "A value is trying to be set on a copy of a slice from a DataFrame.\n",
      "Try using .loc[row_indexer,col_indexer] = value instead\n",
      "\n",
      "See the caveats in the documentation: http://pandas.pydata.org/pandas-docs/stable/indexing.html#indexing-view-versus-copy\n",
      "  This is separate from the ipykernel package so we can avoid doing imports until\n",
      "C:\\Users\\lenovo\\Anaconda3\\lib\\site-packages\\ipykernel_launcher.py:4: SettingWithCopyWarning: \n",
      "A value is trying to be set on a copy of a slice from a DataFrame.\n",
      "Try using .loc[row_indexer,col_indexer] = value instead\n",
      "\n",
      "See the caveats in the documentation: http://pandas.pydata.org/pandas-docs/stable/indexing.html#indexing-view-versus-copy\n",
      "  after removing the cwd from sys.path.\n",
      "C:\\Users\\lenovo\\Anaconda3\\lib\\site-packages\\ipykernel_launcher.py:5: SettingWithCopyWarning: \n",
      "A value is trying to be set on a copy of a slice from a DataFrame.\n",
      "Try using .loc[row_indexer,col_indexer] = value instead\n",
      "\n",
      "See the caveats in the documentation: http://pandas.pydata.org/pandas-docs/stable/indexing.html#indexing-view-versus-copy\n",
      "  \"\"\"\n",
      "C:\\Users\\lenovo\\Anaconda3\\lib\\site-packages\\ipykernel_launcher.py:6: SettingWithCopyWarning: \n",
      "A value is trying to be set on a copy of a slice from a DataFrame.\n",
      "Try using .loc[row_indexer,col_indexer] = value instead\n",
      "\n",
      "See the caveats in the documentation: http://pandas.pydata.org/pandas-docs/stable/indexing.html#indexing-view-versus-copy\n",
      "  \n",
      "C:\\Users\\lenovo\\Anaconda3\\lib\\site-packages\\ipykernel_launcher.py:7: SettingWithCopyWarning: \n",
      "A value is trying to be set on a copy of a slice from a DataFrame.\n",
      "Try using .loc[row_indexer,col_indexer] = value instead\n",
      "\n",
      "See the caveats in the documentation: http://pandas.pydata.org/pandas-docs/stable/indexing.html#indexing-view-versus-copy\n",
      "  import sys\n",
      "C:\\Users\\lenovo\\Anaconda3\\lib\\site-packages\\ipykernel_launcher.py:8: SettingWithCopyWarning: \n",
      "A value is trying to be set on a copy of a slice from a DataFrame.\n",
      "Try using .loc[row_indexer,col_indexer] = value instead\n",
      "\n",
      "See the caveats in the documentation: http://pandas.pydata.org/pandas-docs/stable/indexing.html#indexing-view-versus-copy\n",
      "  \n",
      "C:\\Users\\lenovo\\Anaconda3\\lib\\site-packages\\ipykernel_launcher.py:9: SettingWithCopyWarning: \n",
      "A value is trying to be set on a copy of a slice from a DataFrame.\n",
      "Try using .loc[row_indexer,col_indexer] = value instead\n",
      "\n",
      "See the caveats in the documentation: http://pandas.pydata.org/pandas-docs/stable/indexing.html#indexing-view-versus-copy\n",
      "  if __name__ == '__main__':\n",
      "C:\\Users\\lenovo\\Anaconda3\\lib\\site-packages\\ipykernel_launcher.py:10: SettingWithCopyWarning: \n",
      "A value is trying to be set on a copy of a slice from a DataFrame.\n",
      "Try using .loc[row_indexer,col_indexer] = value instead\n",
      "\n",
      "See the caveats in the documentation: http://pandas.pydata.org/pandas-docs/stable/indexing.html#indexing-view-versus-copy\n",
      "  # Remove the CWD from sys.path while we load stuff.\n",
      "C:\\Users\\lenovo\\Anaconda3\\lib\\site-packages\\ipykernel_launcher.py:11: SettingWithCopyWarning: \n",
      "A value is trying to be set on a copy of a slice from a DataFrame.\n",
      "Try using .loc[row_indexer,col_indexer] = value instead\n",
      "\n",
      "See the caveats in the documentation: http://pandas.pydata.org/pandas-docs/stable/indexing.html#indexing-view-versus-copy\n",
      "  # This is added back by InteractiveShellApp.init_path()\n",
      "C:\\Users\\lenovo\\Anaconda3\\lib\\site-packages\\ipykernel_launcher.py:12: SettingWithCopyWarning: \n",
      "A value is trying to be set on a copy of a slice from a DataFrame.\n",
      "Try using .loc[row_indexer,col_indexer] = value instead\n",
      "\n",
      "See the caveats in the documentation: http://pandas.pydata.org/pandas-docs/stable/indexing.html#indexing-view-versus-copy\n",
      "  if sys.path[0] == '':\n",
      "C:\\Users\\lenovo\\Anaconda3\\lib\\site-packages\\ipykernel_launcher.py:16: SettingWithCopyWarning: \n",
      "A value is trying to be set on a copy of a slice from a DataFrame.\n",
      "Try using .loc[row_indexer,col_indexer] = value instead\n",
      "\n",
      "See the caveats in the documentation: http://pandas.pydata.org/pandas-docs/stable/indexing.html#indexing-view-versus-copy\n",
      "  app.launch_new_instance()\n",
      "C:\\Users\\lenovo\\Anaconda3\\lib\\site-packages\\ipykernel_launcher.py:17: SettingWithCopyWarning: \n",
      "A value is trying to be set on a copy of a slice from a DataFrame.\n",
      "Try using .loc[row_indexer,col_indexer] = value instead\n",
      "\n",
      "See the caveats in the documentation: http://pandas.pydata.org/pandas-docs/stable/indexing.html#indexing-view-versus-copy\n",
      "C:\\Users\\lenovo\\Anaconda3\\lib\\site-packages\\ipykernel_launcher.py:18: SettingWithCopyWarning: \n",
      "A value is trying to be set on a copy of a slice from a DataFrame.\n",
      "Try using .loc[row_indexer,col_indexer] = value instead\n",
      "\n",
      "See the caveats in the documentation: http://pandas.pydata.org/pandas-docs/stable/indexing.html#indexing-view-versus-copy\n",
      "C:\\Users\\lenovo\\Anaconda3\\lib\\site-packages\\ipykernel_launcher.py:19: SettingWithCopyWarning: \n",
      "A value is trying to be set on a copy of a slice from a DataFrame.\n",
      "Try using .loc[row_indexer,col_indexer] = value instead\n",
      "\n",
      "See the caveats in the documentation: http://pandas.pydata.org/pandas-docs/stable/indexing.html#indexing-view-versus-copy\n",
      "C:\\Users\\lenovo\\Anaconda3\\lib\\site-packages\\ipykernel_launcher.py:20: SettingWithCopyWarning: \n",
      "A value is trying to be set on a copy of a slice from a DataFrame.\n",
      "Try using .loc[row_indexer,col_indexer] = value instead\n",
      "\n",
      "See the caveats in the documentation: http://pandas.pydata.org/pandas-docs/stable/indexing.html#indexing-view-versus-copy\n",
      "C:\\Users\\lenovo\\Anaconda3\\lib\\site-packages\\ipykernel_launcher.py:21: SettingWithCopyWarning: \n",
      "A value is trying to be set on a copy of a slice from a DataFrame.\n",
      "Try using .loc[row_indexer,col_indexer] = value instead\n",
      "\n",
      "See the caveats in the documentation: http://pandas.pydata.org/pandas-docs/stable/indexing.html#indexing-view-versus-copy\n",
      "C:\\Users\\lenovo\\Anaconda3\\lib\\site-packages\\ipykernel_launcher.py:22: SettingWithCopyWarning: \n",
      "A value is trying to be set on a copy of a slice from a DataFrame.\n",
      "Try using .loc[row_indexer,col_indexer] = value instead\n",
      "\n",
      "See the caveats in the documentation: http://pandas.pydata.org/pandas-docs/stable/indexing.html#indexing-view-versus-copy\n",
      "C:\\Users\\lenovo\\Anaconda3\\lib\\site-packages\\ipykernel_launcher.py:23: SettingWithCopyWarning: \n",
      "A value is trying to be set on a copy of a slice from a DataFrame.\n",
      "Try using .loc[row_indexer,col_indexer] = value instead\n",
      "\n",
      "See the caveats in the documentation: http://pandas.pydata.org/pandas-docs/stable/indexing.html#indexing-view-versus-copy\n",
      "C:\\Users\\lenovo\\Anaconda3\\lib\\site-packages\\ipykernel_launcher.py:24: SettingWithCopyWarning: \n",
      "A value is trying to be set on a copy of a slice from a DataFrame.\n",
      "Try using .loc[row_indexer,col_indexer] = value instead\n",
      "\n",
      "See the caveats in the documentation: http://pandas.pydata.org/pandas-docs/stable/indexing.html#indexing-view-versus-copy\n",
      "C:\\Users\\lenovo\\Anaconda3\\lib\\site-packages\\ipykernel_launcher.py:25: SettingWithCopyWarning: \n",
      "A value is trying to be set on a copy of a slice from a DataFrame.\n",
      "Try using .loc[row_indexer,col_indexer] = value instead\n",
      "\n",
      "See the caveats in the documentation: http://pandas.pydata.org/pandas-docs/stable/indexing.html#indexing-view-versus-copy\n",
      "C:\\Users\\lenovo\\Anaconda3\\lib\\site-packages\\ipykernel_launcher.py:26: SettingWithCopyWarning: \n",
      "A value is trying to be set on a copy of a slice from a DataFrame.\n",
      "Try using .loc[row_indexer,col_indexer] = value instead\n",
      "\n",
      "See the caveats in the documentation: http://pandas.pydata.org/pandas-docs/stable/indexing.html#indexing-view-versus-copy\n"
     ]
    }
   ],
   "source": [
    "#Cut outlier of train dataset 1stFlrSF, 2ndFlrSF, BsmtFinSF1, BsmtUnfSF, GrLivArea, LotArea, MiscVal, TotalBsmtSF \n",
    "train['LotArea']= train['LotArea'].clip_upper(train[\"LotArea\"].quantile(0.99)) \n",
    "train['MiscVal']= train['MiscVal'].clip_upper(train[\"MiscVal\"].quantile(0.99)) \n",
    "train['MasVnrArea']= train['MasVnrArea'].clip_upper(train[\"MasVnrArea\"].quantile(0.99)) \n",
    "train['LotFrontage']= train['LotFrontage'].clip_upper(train[\"LotFrontage\"].quantile(0.99)) \n",
    "train['LowQualFinSF']= train['LowQualFinSF'].clip_upper(train[\"LowQualFinSF\"].quantile(0.99)) \n",
    "train['BsmtFinSF1']= train['BsmtFinSF1'].clip_upper(train[\"BsmtFinSF1\"].quantile(0.99)) \n",
    "train['BsmtFinSF2']= train['BsmtFinSF2'].clip_upper(train[\"BsmtFinSF2\"].quantile(0.99)) \n",
    "train['GrLivArea']= train['GrLivArea'].clip_upper(train[\"GrLivArea\"].quantile(0.99)) \n",
    "train['1stFlrSF']= train['1stFlrSF'].clip_upper(train[\"1stFlrSF\"].quantile(0.99)) \n",
    "train['TotalBsmtSF']= train['TotalBsmtSF'].clip_upper(train[\"TotalBsmtSF\"].quantile(0.99)) \n",
    "train['LotArea']= train['LotArea'].clip_upper(train[\"LotArea\"].quantile(0.99)) \n",
    "      \n",
    "    \n",
    "#test set LotArea, BsmtFinSF1, BsmtFinSF2, BsmtUnfSF, TotalBsmtSF, 1stFlrSF, 2ndFlrSF, GrLivArea,GarageArea, WoodDeckSF, MiscVal\n",
    "test['LotArea']= test['LotArea'].clip_upper(test[\"LotArea\"].quantile(0.75)) \n",
    "test['MiscVal']= test['MiscVal'].clip_upper(test[\"MiscVal\"].quantile(0.85)) \n",
    "test['BsmtFinSF1']= test['BsmtFinSF1'].clip_upper(test[\"BsmtFinSF1\"].quantile(0.99)) \n",
    "test['BsmtFinSF2']= test['BsmtFinSF2'].clip_upper(test[\"BsmtFinSF2\"].quantile(0.99)) \n",
    "test['BsmtUnfSF']= test['BsmtUnfSF'].clip_upper(test[\"BsmtUnfSF\"].quantile(0.99)) \n",
    "test['TotalBsmtSF']= test['TotalBsmtSF'].clip_upper(test[\"TotalBsmtSF\"].quantile(0.99)) \n",
    "test['1stFlrSF']= test['1stFlrSF'].clip_upper(test[\"1stFlrSF\"].quantile(0.99)) \n",
    "test['2ndFlrSF']= test['2ndFlrSF'].clip_upper(test[\"2ndFlrSF\"].quantile(0.99)) \n",
    "test['GrLivArea']= test['GrLivArea'].clip_upper(test[\"GrLivArea\"].quantile(0.99)) \n",
    "test['GarageArea']= test['GarageArea'].clip_upper(test[\"GarageArea\"].quantile(0.99)) \n",
    "test['WoodDeckSF']= test['WoodDeckSF'].clip_upper(test[\"WoodDeckSF\"].quantile(0.99)) "
   ]
  },
  {
   "cell_type": "code",
   "execution_count": 69,
   "metadata": {
    "collapsed": true
   },
   "outputs": [],
   "source": [
    "train_test_concat = pd.concat((train,test)).reset_index(drop=True)"
   ]
  },
  {
   "cell_type": "markdown",
   "metadata": {
    "colab": {},
    "colab_type": "code",
    "collapsed": true,
    "id": "AkXCQYgDIG8A"
   },
   "source": [
    "### Normalize with scaler"
   ]
  },
  {
   "cell_type": "code",
   "execution_count": 70,
   "metadata": {
    "collapsed": true,
    "scrolled": true
   },
   "outputs": [],
   "source": [
    "#print(train_test_concat.isnull().sum().sort_values(ascending=False).head())"
   ]
  },
  {
   "cell_type": "code",
   "execution_count": 71,
   "metadata": {
    "collapsed": true,
    "scrolled": false
   },
   "outputs": [],
   "source": [
    "import sys\n",
    "from sklearn import preprocessing\n",
    "from sklearn.preprocessing import MinMaxScaler\n",
    "scaler = MinMaxScaler()\n",
    "\n",
    "numeric_feats = train_test_concat.select_dtypes(include=[np.number])\n",
    "cat_feats = train_test_concat.select_dtypes(exclude =[np.number])\n",
    "numeric_feats_norm = pd.DataFrame(data=scaler.fit_transform(numeric_feats),columns=numeric_feats.columns)\n",
    "train_test_concat_norm = pd.merge(numeric_feats_norm,cat_feats,left_index=True, right_index=True)        "
   ]
  },
  {
   "cell_type": "code",
   "execution_count": 72,
   "metadata": {},
   "outputs": [
    {
     "name": "stdout",
     "output_type": "stream",
     "text": [
      "Index(['MSSubClass', 'LotFrontage', 'LotArea', 'OverallQual', 'OverallCond',\n",
      "       'YearBuilt', 'YearRemodAdd', 'MasVnrArea', 'BsmtFinSF1', 'BsmtFinSF2',\n",
      "       'BsmtUnfSF', 'TotalBsmtSF', '1stFlrSF', '2ndFlrSF', 'LowQualFinSF',\n",
      "       'GrLivArea', 'BsmtFullBath', 'BsmtHalfBath', 'FullBath', 'HalfBath',\n",
      "       'BedroomAbvGr', 'KitchenAbvGr', 'TotRmsAbvGrd', 'Fireplaces',\n",
      "       'GarageYrBlt', 'GarageCars', 'GarageArea', 'WoodDeckSF', 'MiscVal',\n",
      "       'MoSold', 'YrSold'],\n",
      "      dtype='object')\n"
     ]
    }
   ],
   "source": [
    "print(numeric_feats_norm.columns)"
   ]
  },
  {
   "cell_type": "code",
   "execution_count": 73,
   "metadata": {},
   "outputs": [
    {
     "name": "stdout",
     "output_type": "stream",
     "text": [
      "(2919, 72)\n",
      "(2919, 72)\n"
     ]
    }
   ],
   "source": [
    "print(train_test_concat_norm.shape)\n",
    "print(train_test_concat_norm.shape)"
   ]
  },
  {
   "cell_type": "markdown",
   "metadata": {
    "colab_type": "text",
    "id": "jJgck1Yyjpd9"
   },
   "source": [
    "### Next: - "
   ]
  },
  {
   "cell_type": "code",
   "execution_count": 74,
   "metadata": {},
   "outputs": [
    {
     "name": "stdout",
     "output_type": "stream",
     "text": [
      "Shape all_data: (2919, 72)\n"
     ]
    }
   ],
   "source": [
    "#Convert category feature into 0,1\n",
    "\n",
    "from sklearn.preprocessing import LabelEncoder\n",
    "\n",
    "cols = ('FireplaceQu', 'BsmtQual', 'BsmtCond', 'GarageQual', 'GarageCond', \n",
    "        'ExterQual', 'ExterCond','HeatingQC', 'PoolQC', 'KitchenQual', 'BsmtFinType1', \n",
    "        'BsmtFinType2', 'Functional', 'Fence', 'BsmtExposure', 'GarageFinish', 'LandSlope',\n",
    "        'LotShape', 'PavedDrive', 'Alley', 'CentralAir', 'MSSubClass', 'OverallCond', \n",
    "        'YrSold', 'MoSold')\n",
    "\n",
    "# process columns, apply LabelEncoder to categorical features\n",
    "for c in cols:\n",
    "    lbl = LabelEncoder() \n",
    "    lbl.fit(list(train_test_concat_norm[c].values)) \n",
    "    train_test_concat_norm[c] = lbl.transform(list(train_test_concat_norm[c].values))\n",
    "\n",
    "# shape        \n",
    "print('Shape all_data: {}'.format(train_test_concat.shape))"
   ]
  },
  {
   "cell_type": "code",
   "execution_count": 75,
   "metadata": {},
   "outputs": [
    {
     "name": "stdout",
     "output_type": "stream",
     "text": [
      "(2919, 214)\n"
     ]
    }
   ],
   "source": [
    "train_test_concat_norm = pd.get_dummies(train_test_concat_norm)\n",
    "print(train_test_concat_norm.shape)"
   ]
  },
  {
   "cell_type": "markdown",
   "metadata": {},
   "source": [
    "### Scaler the target"
   ]
  },
  {
   "cell_type": "code",
   "execution_count": 76,
   "metadata": {
    "collapsed": true
   },
   "outputs": [],
   "source": [
    "#Sale Price - Target\n",
    "%matplotlib inline\n",
    "#plt.figure(num=None, figsize=(6, 4))\n",
    "#sns.distplot(y_train, fit=norm)"
   ]
  },
  {
   "cell_type": "code",
   "execution_count": 77,
   "metadata": {
    "collapsed": true
   },
   "outputs": [],
   "source": [
    "# Scaler / log the target\n",
    "#plt.figure(num=None, figsize=(6, 4))\n",
    "y_train = np.log(y_train)\n",
    "#sns.distplot(y_train, fit=norm)"
   ]
  },
  {
   "cell_type": "code",
   "execution_count": 78,
   "metadata": {},
   "outputs": [
    {
     "name": "stdout",
     "output_type": "stream",
     "text": [
      "[12.24769432 12.10901093 12.31716669 ... 12.49312952 11.86446223\n",
      " 11.90158345]\n",
      "Stored 'y_train' (ndarray)\n"
     ]
    }
   ],
   "source": [
    "print(y_train)\n",
    "%store y_train"
   ]
  },
  {
   "cell_type": "code",
   "execution_count": 79,
   "metadata": {},
   "outputs": [
    {
     "name": "stdout",
     "output_type": "stream",
     "text": [
      "Stored 'train_test_concat_norm' (DataFrame)\n"
     ]
    }
   ],
   "source": [
    "%store train_test_concat_norm"
   ]
  }
 ],
 "metadata": {
  "colab": {
   "collapsed_sections": [],
   "name": "Feature_Engineering.ipynb",
   "provenance": [],
   "version": "0.3.2"
  },
  "kernelspec": {
   "display_name": "Python 3",
   "language": "python",
   "name": "python3"
  },
  "language_info": {
   "codemirror_mode": {
    "name": "ipython",
    "version": 3
   },
   "file_extension": ".py",
   "mimetype": "text/x-python",
   "name": "python",
   "nbconvert_exporter": "python",
   "pygments_lexer": "ipython3",
   "version": "3.6.3"
  }
 },
 "nbformat": 4,
 "nbformat_minor": 1
}
